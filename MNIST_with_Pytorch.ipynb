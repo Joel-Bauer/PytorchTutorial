{
 "cells": [
  {
   "attachments": {},
   "cell_type": "markdown",
   "metadata": {},
   "source": [
    "# Welcome to PyTorch!\n",
    "The purpose of this little tutorial is to introduce you to the basics of the pytorch deep learning package, and how to structure a small project.\n",
    "We will use a classic deep learning introductory problem, classification of single hand writen digets from the MNIST databse (Modified National Institute of Standars and Technology database).\n"
   ]
  },
  {
   "attachments": {},
   "cell_type": "markdown",
   "metadata": {},
   "source": [
    "## 0) First lets import torch and check if our workstation has cuda enabled GPU available. "
   ]
  },
  {
   "cell_type": "code",
   "execution_count": 1,
   "metadata": {},
   "outputs": [
    {
     "data": {
      "text/plain": [
       "device(type='cuda')"
      ]
     },
     "execution_count": 1,
     "metadata": {},
     "output_type": "execute_result"
    }
   ],
   "source": [
    "# import numpy as np\n",
    "import torch as torch # import the pytorch library\n",
    "device = torch.device('cuda' if torch.cuda.is_available() else 'cpu') # if a cuda enabled GPU device is available get a handle(?) to it, otherwise create a handle to the cpu\n",
    "device "
   ]
  },
  {
   "attachments": {},
   "cell_type": "markdown",
   "metadata": {},
   "source": [
    "## 1) Download MNIST data from the torchvision library. Torchvision needs to be imported separatly. "
   ]
  },
  {
   "cell_type": "code",
   "execution_count": 2,
   "metadata": {},
   "outputs": [],
   "source": [
    "## Loading data\n",
    "from torchvision import datasets\n",
    "from torchvision.transforms import ToTensor\n",
    "\n",
    "# pytorch has several datasets you can download, including the MNIST hand writen digit\n",
    "train_data = datasets.MNIST(\n",
    "    root = 'data',\n",
    "    train = True,                         \n",
    "    transform = ToTensor(), \n",
    "    download = True          \n",
    ")\n",
    "\n"
   ]
  },
  {
   "attachments": {},
   "cell_type": "markdown",
   "metadata": {},
   "source": [
    "Above we have downloaded the training set. Fill out the code below to to download the test_set."
   ]
  },
  {
   "cell_type": "code",
   "execution_count": 3,
   "metadata": {},
   "outputs": [],
   "source": [
    "test_data = datasets.MNIST(\n",
    "    root = 'data', #! cut\n",
    "    train = False, #! cut\n",
    "    transform = ToTensor(), #! cut\n",
    "    download = True #! cut\n",
    ")"
   ]
  },
  {
   "attachments": {},
   "cell_type": "markdown",
   "metadata": {},
   "source": [
    "## 1.1) Lets have a look at the dataset we've just downloaded\n",
    "\n",
    "The MNIST data is composed of images and corresponding labels.\n",
    "To plot an example of the data we will use matplotlib."
   ]
  },
  {
   "cell_type": "code",
   "execution_count": 4,
   "metadata": {},
   "outputs": [
    {
     "name": "stdout",
     "output_type": "stream",
     "text": [
      "Dataset MNIST\n",
      "    Number of datapoints: 60000\n",
      "    Root location: data\n",
      "    Split: Train\n",
      "    StandardTransform\n",
      "Transform: ToTensor()\n",
      "Dataset MNIST\n",
      "    Number of datapoints: 10000\n",
      "    Root location: data\n",
      "    Split: Test\n",
      "    StandardTransform\n",
      "Transform: ToTensor()\n",
      "torch.Size([1, 28, 28])\n",
      "5\n"
     ]
    }
   ],
   "source": [
    "# print your \n",
    "print(train_data) \n",
    "print(test_data)\n",
    "\n",
    "# call ne example of an image and its label. What are the dimensions of the image and what is the label for this exampel?\n",
    "img, label = train_data[0] #! cut\n",
    "print(img.shape) #! cut\n",
    "print(label) #! cut\n"
   ]
  },
  {
   "cell_type": "code",
   "execution_count": 5,
   "metadata": {},
   "outputs": [
    {
     "data": {
      "image/png": "[encoded data removed]",
      "text/plain": [
       "<Figure size 300x300 with 1 Axes>"
      ]
     },
     "metadata": {},
     "output_type": "display_data"
    }
   ],
   "source": [
    "# plot the example image \n",
    "import matplotlib.pyplot as plt;\n",
    "figure = plt.figure(figsize=(3, 3))\n",
    "plt.imshow(img.squeeze(), cmap=\"gray\") #! cut\n",
    "plt.title(label)\n",
    "plt.axis(\"off\");"
   ]
  },
  {
   "attachments": {},
   "cell_type": "markdown",
   "metadata": {},
   "source": [
    "## 1.2) Loading your own data\n",
    "\n",
    "Above we downloaded an existing dataset from torchvision. In many cases you will want to import your own data from .mat, .npy and .npz files. Below is an example of how that might work."
   ]
  },
  {
   "cell_type": "code",
   "execution_count": 6,
   "metadata": {},
   "outputs": [],
   "source": [
    "## save MNIST data as numpy arrays\n",
    "# import numpy as np\n",
    "\n",
    "# imgs = train_data.data.detach().numpy()\n",
    "# labels = train_data.targets.detach().numpy()\n",
    "# np.savez('MNIST_train.npz',imgs=imgs,labels=labels)\n",
    "\n",
    "# imgs = test_data.data.detach().numpy()\n",
    "# labels = test_data.targets.detach().numpy()\n",
    "# np.savez('MNIST_test.npz',imgs=imgs,labels=labels)\n"
   ]
  },
  {
   "cell_type": "code",
   "execution_count": 7,
   "metadata": {},
   "outputs": [],
   "source": [
    "# Loading from disk\n",
    "import numpy as np\n",
    "\n",
    "data = np.load('MNIST_train.npz') # load data from .npz file\n",
    "labels=data['labels']\n",
    "imgs=data['imgs'] \n",
    "imgs=torch.from_numpy(imgs) # convert numpy array to torch tensor\n",
    "imgs=imgs.to(torch.float32) # specify dtype as float32 (dtype must match the model dtype whos default is usually float32)\n",
    "train_data = torch.utils.data.TensorDataset(imgs,torch.from_numpy(labels))\n",
    "\n",
    "# same thing for the test set\n",
    "data = np.load('MNIST_test.npz')\n",
    "imgs=torch.from_numpy(data['imgs']).to(torch.float32)\n",
    "labels=data['labels']\n",
    "test_data = torch.utils.data.TensorDataset(imgs,torch.from_numpy(labels))"
   ]
  },
  {
   "attachments": {},
   "cell_type": "markdown",
   "metadata": {},
   "source": [
    "# 1.3) create a dataloader\n",
    "\n",
    "DataLoaders wrap an iterable around a DataSet class. This proves an easy way of sampling from the dataset in an efficeint way. This is also where we can specifiy the batchsize, as well as introduce data transforms that can be applied each time we sample from the data.\n",
    "\n",
    "-> batch size: The size of your data sample used for each optimization step. This is a hyperparameter, e.i. a variable you can optimize to improve good model performance quickly.\n",
    "\n",
    "-> transfomrs: We might need to rescale our images. Or we would like to augment our training data, e.g. by flipping the images horizontally or introducing noise."
   ]
  },
  {
   "cell_type": "code",
   "execution_count": 8,
   "metadata": {},
   "outputs": [],
   "source": [
    "# setup Data loader \n",
    "\n",
    "batchsize = 64 # This is usually a multiple of 2 between 16 and 512 and will depend on your CPU/GPU size\n",
    "\n",
    "from torch.utils.data import DataLoader\n",
    "loaders = { # Library of dataloader functions\n",
    "    'train' : torch.utils.data.DataLoader(train_data, \n",
    "                                          batch_size=batchsize, \n",
    "                                          shuffle=True, # We usually want to randomly sample a new subset of our data\n",
    "                                          num_workers=1), # This variable allows us to multithread dataloading, \n",
    "                                                          # which is usefull if we have a dataset which does not fit onto the RAM\n",
    "    \n",
    "    'test'  : torch.utils.data.DataLoader(test_data, \n",
    "                                          batch_size=batchsize, \n",
    "                                          shuffle=True, \n",
    "                                          num_workers=1),\n",
    "}\n",
    "\n"
   ]
  },
  {
   "attachments": {},
   "cell_type": "markdown",
   "metadata": {},
   "source": [
    "Lets call the dataloader to call one batch and plot the examples in that batch. We have writen a plotting function that plots a few exampels with labels in one figure for you."
   ]
  },
  {
   "cell_type": "code",
   "execution_count": 9,
   "metadata": {},
   "outputs": [
    {
     "data": {
      "image/png": "[encoded data removed]",
      "text/plain": [
       "<Figure size 800x800 with 25 Axes>"
      ]
     },
     "metadata": {},
     "output_type": "display_data"
    }
   ],
   "source": [
    "training_data_iterable = iter(loaders['train']) # create an iterable \n",
    "img,label=next(training_data_iterable) # calls the first randomly sampled batch of examples\n",
    "\n",
    "import plot_examples \n",
    "plot_examples.plot(img,label,[]) # plots a few examples"
   ]
  },
  {
   "attachments": {},
   "cell_type": "markdown",
   "metadata": {},
   "source": [
    "# 2) Create or call a model\n",
    "This is the fun bit! We have writen up a couple of models in this tutorial for you and for now we will just use one of these, but feel free to go back and modify one of them or make another one from scratch. \n",
    "\n",
    "In this digit classification excersize the major constraints of your model are the size of the input layer, which needs to match your input data (c\\*h\\*w => 1\\*28\\*28), and the size of your output layer, which needs to match the number of possible classes/lables (0-9 => 10). \n",
    "\n",
    "#### Feed Forward Models\n",
    "\n",
    "-> LFF: No hidden layers. This is a linear model because it cannot learn nonlinear relationships.\n",
    "\n",
    "-> DFF_tiny: This model has 10 hidden units\n",
    "\n",
    "-> DFF: Still a fairly shallow model (not many hidden layers), but with more hidden units\n",
    "\n",
    "#### Convolutional Models (not implemented yet)\n",
    "\n",
    "-> ConvNet1: The first two layers are convolutional layers, which is then followed by one fully connected feed forward layer"
   ]
  },
  {
   "attachments": {},
   "cell_type": "markdown",
   "metadata": {},
   "source": [
    "We will use the DFF model for our example"
   ]
  },
  {
   "cell_type": "code",
   "execution_count": 19,
   "metadata": {},
   "outputs": [
    {
     "name": "stdout",
     "output_type": "stream",
     "text": [
      "==========================================================================================\n",
      "Layer (type:depth-idx)                   Output Shape              Param #\n",
      "==========================================================================================\n",
      "├─Linear: 1-1                            [-1, 196]                 153,860\n",
      "├─Linear: 1-2                            [-1, 49]                  9,653\n",
      "├─Linear: 1-3                            [-1, 10]                  500\n",
      "==========================================================================================\n",
      "Total params: 164,013\n",
      "Trainable params: 164,013\n",
      "Non-trainable params: 0\n",
      "Total mult-adds (M): 0.16\n",
      "==========================================================================================\n",
      "Input size (MB): 0.00\n",
      "Forward/backward pass size (MB): 0.00\n",
      "Params size (MB): 0.63\n",
      "Estimated Total Size (MB): 0.63\n",
      "==========================================================================================\n"
     ]
    }
   ],
   "source": [
    "from torchsummary import summary \n",
    "import Models as models \n",
    "from importlib import reload  \n",
    "reload(models)# This reloads the current DFF model, even if we already loaded an older version. \n",
    "\n",
    "net = models.DFF().to(device) # Call an instance one of the models. \n",
    "\n",
    "summary(net, (1,28,28)) # this gives us a convenient way of quickly looking at the structure and size of our model. \n",
    "\n",
    "# We will want to cellect the model performance as we train it. So let's initiate this list here\n",
    "loss_train=[] # loss collector\n",
    "loss_test=[]\n"
   ]
  },
  {
   "attachments": {},
   "cell_type": "markdown",
   "metadata": {},
   "source": [
    "It is often usefull to visualize our models in the form of flow charts, especially when they get large and complicated. There are several tools you can use. Try using the Netron online app. You will need to generate a .onnx file to do this. Drag-and-drop the .onnx file into the web app."
   ]
  },
  {
   "cell_type": "code",
   "execution_count": 20,
   "metadata": {},
   "outputs": [],
   "source": [
    "# Some standard imports\n",
    "import torch.onnx\n",
    "\n",
    "img,label=next(iter(loaders['train'])) # get a batch\n",
    "torch.onnx.export(net,img.to(device),'MNIST_DFF.onnx',export_params=True,input_names = ['image'],output_names = ['label'],\n",
    "                  dynamic_axes={'image' : {0 : 'batch_size'},'label' : {0 : 'batch_size'}}) \n",
    "# load file into https://netron.app/"
   ]
  },
  {
   "attachments": {},
   "cell_type": "markdown",
   "metadata": {},
   "source": [
    "## 3) Helper functions for training\n",
    "We will want to create a couple helper functions to train and evaluate our model. \n",
    "\n",
    "-> loss function: This calculates the difference between the predicted labels and the true labels across your batch. There are many loss functions, but usually there is a standard loss function for the problem you are working on. For Classification, Cross Entropy is commonly used. This loss is then used to caculate the gradient across the model, which in turn is used to update the weights and biases in the model in a process called gradient decent.\n",
    "\n",
    "-> gradient calculater: just kidding! Pytorch takes care of this for you. \n",
    "\n",
    "-> optimizer: After we calculate the loss, we need to apply gradient decent. The aim is to decrease the loss. However, there are a number of ways this can be applied. We therefore need to choose a optimizer function.\n",
    "\n",
    "-> accuracy: We usually also want to know the proportion of correctly identified examples. This is not usefull for gradient decent.\n",
    "\n",
    "-> Wrapper: It is helpfull to write a function, which applies the above steps in the correct order and only when appropriate (e.g. you should disable optimization when applying your model to test data).  "
   ]
  },
  {
   "cell_type": "code",
   "execution_count": 21,
   "metadata": {},
   "outputs": [],
   "source": [
    "## Loss function\n",
    "from torch import nn\n",
    "\n",
    "loss = nn.CrossEntropyLoss()\n",
    "# loss = nn.MSELoss() # Alternative: would need to convert label to on-hot-vector -> nn.functional.one_hot(label,num_classes=10)\n"
   ]
  },
  {
   "cell_type": "code",
   "execution_count": 22,
   "metadata": {},
   "outputs": [],
   "source": [
    "## accuracy\n",
    "import numpy as np\n",
    "\n",
    "def accuracy_calc(labels,labels_pred_int): \n",
    "    # labels: true labels (in integer from, not a one-hot-vector)\n",
    "    # labels_pred_int: predicted labels (in integer from, not a vector of probabilities)\n",
    "    labels = labels.cpu().detach().numpy() # to use numpy we need to move the tensor of labels off the GPU and convert it to a numpy array\n",
    "    labels_pred_int = labels_pred_int.cpu().detach().numpy()\n",
    "    return 100*(labels_pred_int == labels).sum().item() / np.shape(labels)[0] # Here, we calculate the percent correctly predicted labels"
   ]
  },
  {
   "attachments": {},
   "cell_type": "markdown",
   "metadata": {},
   "source": [
    "There are a number of different optimization algorithms and components there of. \n",
    "\n",
    "-> Batch gradient decent: caculate the gradient across the entire training data set and then perform one optimization step.\n",
    "\n",
    "-> Stocastic gradient decent (SGD): caucluate the gradient and apply an optimization step for each training sample independently.\n",
    "\n",
    "-> Mini-batch gradient decent: for each batch (e.g. 32 training examples) caculate the gradient and apply one step of optimization. Usually preferable of the Batch gradient decent or true SGD.\n",
    "\n",
    "-> Momentum: uses a rolling average of the gradient, so that noise across batches is minimized. This smooths the learning \"trajectory\".\n",
    "\n",
    "-> Adaptive learning rate: when we are far away from the global optimum a larger learning rate is advantages as it speeds up progress, but as we approach the global minimum small steps are better. \n",
    "\n",
    "Note: confusingly the pytorch function torch.optim.SGD does not perform Stocastic gradient decent strictly speaking. It will optimize based on the accumulated gradient, of which the step size is defined by us. You will see what this means below. "
   ]
  },
  {
   "cell_type": "code",
   "execution_count": 23,
   "metadata": {},
   "outputs": [],
   "source": [
    "## optimizer\n",
    "from torch import optim\n",
    "\n",
    "# We will use \n",
    "lr = 0.01 \n",
    "momentum = 0 # try 0.5\n",
    "optimizer = optim.SGD(net.parameters(),momentum=momentum,lr=lr) # stocastic gradient decent\n",
    "# optimizer = optim.Adam(net.parameters()) # more advanced alternative\n"
   ]
  },
  {
   "attachments": {},
   "cell_type": "markdown",
   "metadata": {},
   "source": [
    "Let's wrap things up!"
   ]
  },
  {
   "cell_type": "code",
   "execution_count": 24,
   "metadata": {},
   "outputs": [],
   "source": [
    "## Wrapper function\n",
    "def run_model(img,labels,model,optimizer,Loss,train=False):\n",
    "    if train: # only important in specific instances (e.g. if your model has dropout layers or variational layers)\n",
    "        model.train()\n",
    "    else:\n",
    "        model.eval()\n",
    "    \n",
    "    optimizer.zero_grad() # othewise gradients will accumulate. \n",
    "\n",
    "    labels_pred = model(img)  # run model and get label predictions\n",
    "    labels_pred_int = labels_pred.argmax(axis=1) # our model spits out a probability for each category to be true. This line gets the index of max porbablity for each example.\n",
    "    loss = Loss(labels_pred,labels) # calcualte the loss (only uses one channel)\n",
    "    accuracy = accuracy_calc(labels,labels_pred_int) # caculate the % correct predictions\n",
    "\n",
    "    # we only want this next bit to be true when specified, i.e. when we are training the model\n",
    "    if train:\n",
    "        # backprob and update\n",
    "        loss.backward() # calculates the gradient based on the current loss\n",
    "        optimizer.step() # applies one optimization step\n",
    "    \n",
    "    return loss, labels_pred, labels_pred_int, accuracy\n",
    "\n"
   ]
  },
  {
   "attachments": {},
   "cell_type": "markdown",
   "metadata": {},
   "source": [
    "It's a good idea to check things are working before training your model. Get a training example batch, run it through the model using the wrapper function above and print the outs."
   ]
  },
  {
   "cell_type": "code",
   "execution_count": 25,
   "metadata": {},
   "outputs": [
    {
     "name": "stdout",
     "output_type": "stream",
     "text": [
      "label:            [8 9 9 6 1 4 2 6 2 1 9 8 4 9 0 4 5 3 0 1 6 9 5 9 0 3 4 3 9 6 4 5 2 0 7 3 3\n",
      " 9 6 5 4 6 2 6 7 1 0 7 8 7 7 9 9 0 8 9 6 2 9 9 7 1 4 8]\n",
      "label prediction: [8 3 1 9 2 1 7 3 7 9 3 1 1 8 0 3 9 8 3 1 2 3 3 9 8 8 8 9 3 7 3 3 3 0 9 1 8\n",
      " 3 1 1 3 7 1 9 3 2 1 2 9 3 3 3 9 3 8 1 1 0 3 3 3 8 7 3]\n",
      "label weights first example: [ 0.  0.  0.  0.  0.  0.  0.  0. 99.  1.]\n",
      "loss: 2.3021722\n",
      "accuracy: 10.9375%\n"
     ]
    }
   ],
   "source": [
    "# check its all working\n",
    "img,label=next(iter(loaders['train'])) #! cut # get a batch\n",
    "img = img.to(device) #! cut\n",
    "label = label.to(device) #! cut \n",
    "batch_loss, label_pred, label_pred_int, accuracy = run_model(img,label,net,optimizer,loss) #! cut\n",
    "\n",
    "label=label.cpu().detach().numpy()\n",
    "batch_loss=batch_loss.cpu().detach().numpy()\n",
    "label_pred=label_pred.cpu().detach().numpy()\n",
    "label_pred_int=label_pred_int.cpu().detach().numpy()\n",
    "\n",
    "print('label:            ' + np.array2string(label))\n",
    "print('label prediction: ' + np.array2string(label_pred_int))\n",
    "print('label weights first example: ' + np.array2string(label_pred[0]*100,precision=0,suppress_small=True))\n",
    "print('loss: ' + np.array2string(batch_loss))\n",
    "print('accuracy: ' + str(accuracy) + '%')\n"
   ]
  },
  {
   "attachments": {},
   "cell_type": "markdown",
   "metadata": {},
   "source": [
    "## 4) Training time\n",
    "\n",
    "It's finnaly time to train our model. We will do this using two for loops. The nested loop will sample batches of data and optimize the model on each itteration untill all examples in the training set have been used once. The second loop will repeate these passes over the training set a given number of times (epochs) as well as caculate and plot the loss for the training and test set at the end of each epoch.\n",
    "\n",
    "But first lets caculate the training and test loss before any optimization has occured."
   ]
  },
  {
   "cell_type": "code",
   "execution_count": 26,
   "metadata": {},
   "outputs": [],
   "source": [
    "if len(loss_train)<1: # if no training has happened yet save initial loss value\n",
    "    img,label=next(iter(loaders['train'])) # get one batch\n",
    "    img = img.to(device)\n",
    "    label = label.to(device)\n",
    "    batch_loss, _, _, _ = run_model(img,label,net,optimizer,loss)\n",
    "    loss_train.append(batch_loss.cpu().detach().numpy())\n",
    "\n",
    "if len(loss_test)<1: # if no training has happened yet save initial loss value\n",
    "    img,label=next(iter(loaders['test'])) # get one batch\n",
    "    img = img.to(device)\n",
    "    label = label.to(device)\n",
    "    batch_loss, _, _, _ = run_model(img,label,net,optimizer,loss)\n",
    "    loss_test.append(batch_loss.cpu().detach().numpy())"
   ]
  },
  {
   "attachments": {},
   "cell_type": "markdown",
   "metadata": {},
   "source": [
    "We will use tqdm (giving us a progress bar) to keep track of the progress through the training set."
   ]
  },
  {
   "cell_type": "code",
   "execution_count": 27,
   "metadata": {},
   "outputs": [
    {
     "data": {
      "image/png": "[encoded data removed]",
      "text/plain": [
       "<Figure size 640x480 with 1 Axes>"
      ]
     },
     "metadata": {},
     "output_type": "display_data"
    },
    {
     "name": "stderr",
     "output_type": "stream",
     "text": [
      "100%|██████████| 938/938 [00:06<00:00, 142.93it/s]\n"
     ]
    },
    {
     "ename": "KeyboardInterrupt",
     "evalue": "",
     "output_type": "error",
     "traceback": [
      "\u001b[1;31m---------------------------------------------------------------------------\u001b[0m",
      "\u001b[1;31mKeyboardInterrupt\u001b[0m                         Traceback (most recent call last)",
      "Cell \u001b[1;32mIn[27], line 31\u001b[0m\n\u001b[0;32m     28\u001b[0m loss_test\u001b[39m.\u001b[39mappend(batch_loss\u001b[39m.\u001b[39mcpu()\u001b[39m.\u001b[39mdetach()\u001b[39m.\u001b[39mnumpy())\n\u001b[0;32m     30\u001b[0m \u001b[39m# plot the losses\u001b[39;00m\n\u001b[1;32m---> 31\u001b[0m plt\u001b[39m.\u001b[39;49mclf()\n\u001b[0;32m     32\u001b[0m train_handle \u001b[39m=\u001b[39m plt\u001b[39m.\u001b[39mplot(loss_train, color\u001b[39m=\u001b[39m\u001b[39m'\u001b[39m\u001b[39mblue\u001b[39m\u001b[39m'\u001b[39m,label\u001b[39m=\u001b[39m\u001b[39m'\u001b[39m\u001b[39mtraining set\u001b[39m\u001b[39m'\u001b[39m)\n\u001b[0;32m     33\u001b[0m test_handle \u001b[39m=\u001b[39m plt\u001b[39m.\u001b[39mplot(loss_test, color\u001b[39m=\u001b[39m\u001b[39m'\u001b[39m\u001b[39mred\u001b[39m\u001b[39m'\u001b[39m,label\u001b[39m=\u001b[39m\u001b[39m'\u001b[39m\u001b[39mtest set\u001b[39m\u001b[39m'\u001b[39m)\n",
      "File \u001b[1;32mc:\\Users\\jbauer\\Anaconda3\\envs\\DeepImageReconstruction\\lib\\site-packages\\matplotlib\\pyplot.py:933\u001b[0m, in \u001b[0;36mclf\u001b[1;34m()\u001b[0m\n\u001b[0;32m    931\u001b[0m \u001b[39mdef\u001b[39;00m \u001b[39mclf\u001b[39m():\n\u001b[0;32m    932\u001b[0m     \u001b[39m\"\"\"Clear the current figure.\"\"\"\u001b[39;00m\n\u001b[1;32m--> 933\u001b[0m     gcf()\u001b[39m.\u001b[39;49mclear()\n",
      "File \u001b[1;32mc:\\Users\\jbauer\\Anaconda3\\envs\\DeepImageReconstruction\\lib\\site-packages\\matplotlib\\figure.py:3044\u001b[0m, in \u001b[0;36mFigure.clear\u001b[1;34m(self, keep_observers)\u001b[0m\n\u001b[0;32m   3042\u001b[0m \u001b[39mdef\u001b[39;00m \u001b[39mclear\u001b[39m(\u001b[39mself\u001b[39m, keep_observers\u001b[39m=\u001b[39m\u001b[39mFalse\u001b[39;00m):\n\u001b[0;32m   3043\u001b[0m     \u001b[39m# docstring inherited\u001b[39;00m\n\u001b[1;32m-> 3044\u001b[0m     \u001b[39msuper\u001b[39;49m()\u001b[39m.\u001b[39;49mclear(keep_observers\u001b[39m=\u001b[39;49mkeep_observers)\n\u001b[0;32m   3045\u001b[0m     \u001b[39m# FigureBase.clear does not clear toolbars, as\u001b[39;00m\n\u001b[0;32m   3046\u001b[0m     \u001b[39m# only Figure can have toolbars\u001b[39;00m\n\u001b[0;32m   3047\u001b[0m     toolbar \u001b[39m=\u001b[39m \u001b[39mself\u001b[39m\u001b[39m.\u001b[39mcanvas\u001b[39m.\u001b[39mtoolbar\n",
      "File \u001b[1;32mc:\\Users\\jbauer\\Anaconda3\\envs\\DeepImageReconstruction\\lib\\site-packages\\matplotlib\\figure.py:953\u001b[0m, in \u001b[0;36mFigureBase.clear\u001b[1;34m(self, keep_observers)\u001b[0m\n\u001b[0;32m    950\u001b[0m \u001b[39mself\u001b[39m\u001b[39m.\u001b[39msubfigs \u001b[39m=\u001b[39m []\n\u001b[0;32m    952\u001b[0m \u001b[39mfor\u001b[39;00m ax \u001b[39min\u001b[39;00m \u001b[39mtuple\u001b[39m(\u001b[39mself\u001b[39m\u001b[39m.\u001b[39maxes):  \u001b[39m# Iterate over the copy.\u001b[39;00m\n\u001b[1;32m--> 953\u001b[0m     ax\u001b[39m.\u001b[39;49mclear()\n\u001b[0;32m    954\u001b[0m     \u001b[39mself\u001b[39m\u001b[39m.\u001b[39mdelaxes(ax)  \u001b[39m# Remove ax from self._axstack.\u001b[39;00m\n\u001b[0;32m    956\u001b[0m \u001b[39mself\u001b[39m\u001b[39m.\u001b[39martists \u001b[39m=\u001b[39m []\n",
      "File \u001b[1;32mc:\\Users\\jbauer\\Anaconda3\\envs\\DeepImageReconstruction\\lib\\site-packages\\matplotlib\\axes\\_base.py:1348\u001b[0m, in \u001b[0;36m_AxesBase.clear\u001b[1;34m(self)\u001b[0m\n\u001b[0;32m   1346\u001b[0m     \u001b[39mself\u001b[39m\u001b[39m.\u001b[39mcla()\n\u001b[0;32m   1347\u001b[0m \u001b[39melse\u001b[39;00m:\n\u001b[1;32m-> 1348\u001b[0m     \u001b[39mself\u001b[39;49m\u001b[39m.\u001b[39;49m__clear()\n",
      "File \u001b[1;32mc:\\Users\\jbauer\\Anaconda3\\envs\\DeepImageReconstruction\\lib\\site-packages\\matplotlib\\axes\\_base.py:1238\u001b[0m, in \u001b[0;36m_AxesBase.__clear\u001b[1;34m(self)\u001b[0m\n\u001b[0;32m   1236\u001b[0m     axis\u001b[39m.\u001b[39mclear()  \u001b[39m# Also resets the scale to linear.\u001b[39;00m\n\u001b[0;32m   1237\u001b[0m \u001b[39mfor\u001b[39;00m spine \u001b[39min\u001b[39;00m \u001b[39mself\u001b[39m\u001b[39m.\u001b[39mspines\u001b[39m.\u001b[39mvalues():\n\u001b[1;32m-> 1238\u001b[0m     spine\u001b[39m.\u001b[39;49mclear()\n\u001b[0;32m   1240\u001b[0m \u001b[39mself\u001b[39m\u001b[39m.\u001b[39mignore_existing_data_limits \u001b[39m=\u001b[39m \u001b[39mTrue\u001b[39;00m\n\u001b[0;32m   1241\u001b[0m \u001b[39mself\u001b[39m\u001b[39m.\u001b[39mcallbacks \u001b[39m=\u001b[39m cbook\u001b[39m.\u001b[39mCallbackRegistry(\n\u001b[0;32m   1242\u001b[0m     signals\u001b[39m=\u001b[39m[\u001b[39m\"\u001b[39m\u001b[39mxlim_changed\u001b[39m\u001b[39m\"\u001b[39m, \u001b[39m\"\u001b[39m\u001b[39mylim_changed\u001b[39m\u001b[39m\"\u001b[39m, \u001b[39m\"\u001b[39m\u001b[39mzlim_changed\u001b[39m\u001b[39m\"\u001b[39m])\n",
      "File \u001b[1;32mc:\\Users\\jbauer\\Anaconda3\\envs\\DeepImageReconstruction\\lib\\site-packages\\matplotlib\\spines.py:224\u001b[0m, in \u001b[0;36mSpine.clear\u001b[1;34m(self)\u001b[0m\n\u001b[0;32m    222\u001b[0m \u001b[39mself\u001b[39m\u001b[39m.\u001b[39m_position \u001b[39m=\u001b[39m \u001b[39mNone\u001b[39;00m  \u001b[39m# clear position\u001b[39;00m\n\u001b[0;32m    223\u001b[0m \u001b[39mif\u001b[39;00m \u001b[39mself\u001b[39m\u001b[39m.\u001b[39maxis \u001b[39mis\u001b[39;00m \u001b[39mnot\u001b[39;00m \u001b[39mNone\u001b[39;00m:\n\u001b[1;32m--> 224\u001b[0m     \u001b[39mself\u001b[39;49m\u001b[39m.\u001b[39;49maxis\u001b[39m.\u001b[39;49mclear()\n",
      "File \u001b[1;32mc:\\Users\\jbauer\\Anaconda3\\envs\\DeepImageReconstruction\\lib\\site-packages\\matplotlib\\axis.py:890\u001b[0m, in \u001b[0;36mAxis.clear\u001b[1;34m(self)\u001b[0m\n\u001b[0;32m    884\u001b[0m \u001b[39mself\u001b[39m\u001b[39m.\u001b[39m_major_tick_kw[\u001b[39m'\u001b[39m\u001b[39mgridOn\u001b[39m\u001b[39m'\u001b[39m] \u001b[39m=\u001b[39m (\n\u001b[0;32m    885\u001b[0m         mpl\u001b[39m.\u001b[39mrcParams[\u001b[39m'\u001b[39m\u001b[39maxes.grid\u001b[39m\u001b[39m'\u001b[39m] \u001b[39mand\u001b[39;00m\n\u001b[0;32m    886\u001b[0m         mpl\u001b[39m.\u001b[39mrcParams[\u001b[39m'\u001b[39m\u001b[39maxes.grid.which\u001b[39m\u001b[39m'\u001b[39m] \u001b[39min\u001b[39;00m (\u001b[39m'\u001b[39m\u001b[39mboth\u001b[39m\u001b[39m'\u001b[39m, \u001b[39m'\u001b[39m\u001b[39mmajor\u001b[39m\u001b[39m'\u001b[39m))\n\u001b[0;32m    887\u001b[0m \u001b[39mself\u001b[39m\u001b[39m.\u001b[39m_minor_tick_kw[\u001b[39m'\u001b[39m\u001b[39mgridOn\u001b[39m\u001b[39m'\u001b[39m] \u001b[39m=\u001b[39m (\n\u001b[0;32m    888\u001b[0m         mpl\u001b[39m.\u001b[39mrcParams[\u001b[39m'\u001b[39m\u001b[39maxes.grid\u001b[39m\u001b[39m'\u001b[39m] \u001b[39mand\u001b[39;00m\n\u001b[0;32m    889\u001b[0m         mpl\u001b[39m.\u001b[39mrcParams[\u001b[39m'\u001b[39m\u001b[39maxes.grid.which\u001b[39m\u001b[39m'\u001b[39m] \u001b[39min\u001b[39;00m (\u001b[39m'\u001b[39m\u001b[39mboth\u001b[39m\u001b[39m'\u001b[39m, \u001b[39m'\u001b[39m\u001b[39mminor\u001b[39m\u001b[39m'\u001b[39m))\n\u001b[1;32m--> 890\u001b[0m \u001b[39mself\u001b[39;49m\u001b[39m.\u001b[39;49mreset_ticks()\n\u001b[0;32m    892\u001b[0m \u001b[39mself\u001b[39m\u001b[39m.\u001b[39mconverter \u001b[39m=\u001b[39m \u001b[39mNone\u001b[39;00m\n\u001b[0;32m    893\u001b[0m \u001b[39mself\u001b[39m\u001b[39m.\u001b[39munits \u001b[39m=\u001b[39m \u001b[39mNone\u001b[39;00m\n",
      "File \u001b[1;32mc:\\Users\\jbauer\\Anaconda3\\envs\\DeepImageReconstruction\\lib\\site-packages\\matplotlib\\axis.py:913\u001b[0m, in \u001b[0;36mAxis.reset_ticks\u001b[1;34m(self)\u001b[0m\n\u001b[0;32m    911\u001b[0m     \u001b[39mpass\u001b[39;00m\n\u001b[0;32m    912\u001b[0m \u001b[39mtry\u001b[39;00m:\n\u001b[1;32m--> 913\u001b[0m     \u001b[39mself\u001b[39;49m\u001b[39m.\u001b[39;49mset_clip_path(\u001b[39mself\u001b[39;49m\u001b[39m.\u001b[39;49maxes\u001b[39m.\u001b[39;49mpatch)\n\u001b[0;32m    914\u001b[0m \u001b[39mexcept\u001b[39;00m \u001b[39mAttributeError\u001b[39;00m:\n\u001b[0;32m    915\u001b[0m     \u001b[39mpass\u001b[39;00m\n",
      "File \u001b[1;32mc:\\Users\\jbauer\\Anaconda3\\envs\\DeepImageReconstruction\\lib\\site-packages\\matplotlib\\axis.py:1012\u001b[0m, in \u001b[0;36mAxis.set_clip_path\u001b[1;34m(self, clippath, transform)\u001b[0m\n\u001b[0;32m   1010\u001b[0m \u001b[39mdef\u001b[39;00m \u001b[39mset_clip_path\u001b[39m(\u001b[39mself\u001b[39m, clippath, transform\u001b[39m=\u001b[39m\u001b[39mNone\u001b[39;00m):\n\u001b[0;32m   1011\u001b[0m     \u001b[39msuper\u001b[39m()\u001b[39m.\u001b[39mset_clip_path(clippath, transform)\n\u001b[1;32m-> 1012\u001b[0m     \u001b[39mfor\u001b[39;00m child \u001b[39min\u001b[39;00m \u001b[39mself\u001b[39;49m\u001b[39m.\u001b[39;49mmajorTicks \u001b[39m+\u001b[39m \u001b[39mself\u001b[39m\u001b[39m.\u001b[39mminorTicks:\n\u001b[0;32m   1013\u001b[0m         child\u001b[39m.\u001b[39mset_clip_path(clippath, transform)\n\u001b[0;32m   1014\u001b[0m     \u001b[39mself\u001b[39m\u001b[39m.\u001b[39mstale \u001b[39m=\u001b[39m \u001b[39mTrue\u001b[39;00m\n",
      "File \u001b[1;32mc:\\Users\\jbauer\\Anaconda3\\envs\\DeepImageReconstruction\\lib\\site-packages\\matplotlib\\axis.py:599\u001b[0m, in \u001b[0;36m_LazyTickList.__get__\u001b[1;34m(self, instance, cls)\u001b[0m\n\u001b[0;32m    597\u001b[0m \u001b[39mif\u001b[39;00m \u001b[39mself\u001b[39m\u001b[39m.\u001b[39m_major:\n\u001b[0;32m    598\u001b[0m     instance\u001b[39m.\u001b[39mmajorTicks \u001b[39m=\u001b[39m []\n\u001b[1;32m--> 599\u001b[0m     tick \u001b[39m=\u001b[39m instance\u001b[39m.\u001b[39;49m_get_tick(major\u001b[39m=\u001b[39;49m\u001b[39mTrue\u001b[39;49;00m)\n\u001b[0;32m    600\u001b[0m     instance\u001b[39m.\u001b[39mmajorTicks\u001b[39m.\u001b[39mappend(tick)\n\u001b[0;32m    601\u001b[0m     \u001b[39mreturn\u001b[39;00m instance\u001b[39m.\u001b[39mmajorTicks\n",
      "File \u001b[1;32mc:\\Users\\jbauer\\Anaconda3\\envs\\DeepImageReconstruction\\lib\\site-packages\\matplotlib\\axis.py:1483\u001b[0m, in \u001b[0;36mAxis._get_tick\u001b[1;34m(self, major)\u001b[0m\n\u001b[0;32m   1479\u001b[0m     \u001b[39mraise\u001b[39;00m \u001b[39mNotImplementedError\u001b[39;00m(\n\u001b[0;32m   1480\u001b[0m         \u001b[39mf\u001b[39m\u001b[39m\"\u001b[39m\u001b[39mThe Axis subclass \u001b[39m\u001b[39m{\u001b[39;00m\u001b[39mself\u001b[39m\u001b[39m.\u001b[39m\u001b[39m__class__\u001b[39m\u001b[39m.\u001b[39m\u001b[39m__name__\u001b[39m\u001b[39m}\u001b[39;00m\u001b[39m must define \u001b[39m\u001b[39m\"\u001b[39m\n\u001b[0;32m   1481\u001b[0m         \u001b[39m\"\u001b[39m\u001b[39m_tick_class or reimplement _get_tick()\u001b[39m\u001b[39m\"\u001b[39m)\n\u001b[0;32m   1482\u001b[0m tick_kw \u001b[39m=\u001b[39m \u001b[39mself\u001b[39m\u001b[39m.\u001b[39m_major_tick_kw \u001b[39mif\u001b[39;00m major \u001b[39melse\u001b[39;00m \u001b[39mself\u001b[39m\u001b[39m.\u001b[39m_minor_tick_kw\n\u001b[1;32m-> 1483\u001b[0m \u001b[39mreturn\u001b[39;00m \u001b[39mself\u001b[39;49m\u001b[39m.\u001b[39;49m_tick_class(\u001b[39mself\u001b[39;49m\u001b[39m.\u001b[39;49maxes, \u001b[39m0\u001b[39;49m, major\u001b[39m=\u001b[39;49mmajor, \u001b[39m*\u001b[39;49m\u001b[39m*\u001b[39;49mtick_kw)\n",
      "File \u001b[1;32mc:\\Users\\jbauer\\Anaconda3\\envs\\DeepImageReconstruction\\lib\\site-packages\\matplotlib\\axis.py:426\u001b[0m, in \u001b[0;36mXTick.__init__\u001b[1;34m(self, *args, **kwargs)\u001b[0m\n\u001b[0;32m    423\u001b[0m \u001b[39m# x in data coords, y in axes coords\u001b[39;00m\n\u001b[0;32m    424\u001b[0m ax \u001b[39m=\u001b[39m \u001b[39mself\u001b[39m\u001b[39m.\u001b[39maxes\n\u001b[0;32m    425\u001b[0m \u001b[39mself\u001b[39m\u001b[39m.\u001b[39mtick1line\u001b[39m.\u001b[39mset(\n\u001b[1;32m--> 426\u001b[0m     data\u001b[39m=\u001b[39m([\u001b[39m0\u001b[39m], [\u001b[39m0\u001b[39m]), transform\u001b[39m=\u001b[39max\u001b[39m.\u001b[39;49mget_xaxis_transform(\u001b[39m\"\u001b[39;49m\u001b[39mtick1\u001b[39;49m\u001b[39m\"\u001b[39;49m))\n\u001b[0;32m    427\u001b[0m \u001b[39mself\u001b[39m\u001b[39m.\u001b[39mtick2line\u001b[39m.\u001b[39mset(\n\u001b[0;32m    428\u001b[0m     data\u001b[39m=\u001b[39m([\u001b[39m0\u001b[39m], [\u001b[39m1\u001b[39m]), transform\u001b[39m=\u001b[39max\u001b[39m.\u001b[39mget_xaxis_transform(\u001b[39m\"\u001b[39m\u001b[39mtick2\u001b[39m\u001b[39m\"\u001b[39m))\n\u001b[0;32m    429\u001b[0m \u001b[39mself\u001b[39m\u001b[39m.\u001b[39mgridline\u001b[39m.\u001b[39mset(\n\u001b[0;32m    430\u001b[0m     data\u001b[39m=\u001b[39m([\u001b[39m0\u001b[39m, \u001b[39m0\u001b[39m], [\u001b[39m0\u001b[39m, \u001b[39m1\u001b[39m]), transform\u001b[39m=\u001b[39max\u001b[39m.\u001b[39mget_xaxis_transform(\u001b[39m\"\u001b[39m\u001b[39mgrid\u001b[39m\u001b[39m\"\u001b[39m))\n",
      "File \u001b[1;32mc:\\Users\\jbauer\\Anaconda3\\envs\\DeepImageReconstruction\\lib\\site-packages\\matplotlib\\axes\\_base.py:892\u001b[0m, in \u001b[0;36m_AxesBase.get_xaxis_transform\u001b[1;34m(self, which)\u001b[0m\n\u001b[0;32m    889\u001b[0m     \u001b[39mreturn\u001b[39;00m \u001b[39mself\u001b[39m\u001b[39m.\u001b[39m_xaxis_transform\n\u001b[0;32m    890\u001b[0m \u001b[39melif\u001b[39;00m which \u001b[39m==\u001b[39m \u001b[39m'\u001b[39m\u001b[39mtick1\u001b[39m\u001b[39m'\u001b[39m:\n\u001b[0;32m    891\u001b[0m     \u001b[39m# for cartesian projection, this is bottom spine\u001b[39;00m\n\u001b[1;32m--> 892\u001b[0m     \u001b[39mreturn\u001b[39;00m \u001b[39mself\u001b[39;49m\u001b[39m.\u001b[39;49mspines\u001b[39m.\u001b[39;49mbottom\u001b[39m.\u001b[39;49mget_spine_transform()\n\u001b[0;32m    893\u001b[0m \u001b[39melif\u001b[39;00m which \u001b[39m==\u001b[39m \u001b[39m'\u001b[39m\u001b[39mtick2\u001b[39m\u001b[39m'\u001b[39m:\n\u001b[0;32m    894\u001b[0m     \u001b[39m# for cartesian projection, this is top spine\u001b[39;00m\n\u001b[0;32m    895\u001b[0m     \u001b[39mreturn\u001b[39;00m \u001b[39mself\u001b[39m\u001b[39m.\u001b[39mspines\u001b[39m.\u001b[39mtop\u001b[39m.\u001b[39mget_spine_transform()\n",
      "File \u001b[1;32mc:\\Users\\jbauer\\Anaconda3\\envs\\DeepImageReconstruction\\lib\\site-packages\\matplotlib\\spines.py:329\u001b[0m, in \u001b[0;36mSpine.get_spine_transform\u001b[1;34m(self)\u001b[0m\n\u001b[0;32m    327\u001b[0m \u001b[39mdef\u001b[39;00m \u001b[39mget_spine_transform\u001b[39m(\u001b[39mself\u001b[39m):\n\u001b[0;32m    328\u001b[0m     \u001b[39m\"\"\"Return the spine transform.\"\"\"\u001b[39;00m\n\u001b[1;32m--> 329\u001b[0m     \u001b[39mself\u001b[39;49m\u001b[39m.\u001b[39;49m_ensure_position_is_set()\n\u001b[0;32m    331\u001b[0m     position \u001b[39m=\u001b[39m \u001b[39mself\u001b[39m\u001b[39m.\u001b[39m_position\n\u001b[0;32m    332\u001b[0m     \u001b[39mif\u001b[39;00m \u001b[39misinstance\u001b[39m(position, \u001b[39mstr\u001b[39m):\n",
      "File \u001b[1;32mc:\\Users\\jbauer\\Anaconda3\\envs\\DeepImageReconstruction\\lib\\site-packages\\matplotlib\\spines.py:205\u001b[0m, in \u001b[0;36mSpine._ensure_position_is_set\u001b[1;34m(self)\u001b[0m\n\u001b[0;32m    202\u001b[0m \u001b[39mif\u001b[39;00m \u001b[39mself\u001b[39m\u001b[39m.\u001b[39m_position \u001b[39mis\u001b[39;00m \u001b[39mNone\u001b[39;00m:\n\u001b[0;32m    203\u001b[0m     \u001b[39m# default position\u001b[39;00m\n\u001b[0;32m    204\u001b[0m     \u001b[39mself\u001b[39m\u001b[39m.\u001b[39m_position \u001b[39m=\u001b[39m (\u001b[39m'\u001b[39m\u001b[39moutward\u001b[39m\u001b[39m'\u001b[39m, \u001b[39m0.0\u001b[39m)  \u001b[39m# in points\u001b[39;00m\n\u001b[1;32m--> 205\u001b[0m     \u001b[39mself\u001b[39;49m\u001b[39m.\u001b[39;49mset_position(\u001b[39mself\u001b[39;49m\u001b[39m.\u001b[39;49m_position)\n",
      "File \u001b[1;32mc:\\Users\\jbauer\\Anaconda3\\envs\\DeepImageReconstruction\\lib\\site-packages\\matplotlib\\spines.py:319\u001b[0m, in \u001b[0;36mSpine.set_position\u001b[1;34m(self, position)\u001b[0m\n\u001b[0;32m    317\u001b[0m \u001b[39mself\u001b[39m\u001b[39m.\u001b[39mset_transform(\u001b[39mself\u001b[39m\u001b[39m.\u001b[39mget_spine_transform())\n\u001b[0;32m    318\u001b[0m \u001b[39mif\u001b[39;00m \u001b[39mself\u001b[39m\u001b[39m.\u001b[39maxis \u001b[39mis\u001b[39;00m \u001b[39mnot\u001b[39;00m \u001b[39mNone\u001b[39;00m:\n\u001b[1;32m--> 319\u001b[0m     \u001b[39mself\u001b[39;49m\u001b[39m.\u001b[39;49maxis\u001b[39m.\u001b[39;49mreset_ticks()\n\u001b[0;32m    320\u001b[0m \u001b[39mself\u001b[39m\u001b[39m.\u001b[39mstale \u001b[39m=\u001b[39m \u001b[39mTrue\u001b[39;00m\n",
      "File \u001b[1;32mc:\\Users\\jbauer\\Anaconda3\\envs\\DeepImageReconstruction\\lib\\site-packages\\matplotlib\\axis.py:913\u001b[0m, in \u001b[0;36mAxis.reset_ticks\u001b[1;34m(self)\u001b[0m\n\u001b[0;32m    911\u001b[0m     \u001b[39mpass\u001b[39;00m\n\u001b[0;32m    912\u001b[0m \u001b[39mtry\u001b[39;00m:\n\u001b[1;32m--> 913\u001b[0m     \u001b[39mself\u001b[39;49m\u001b[39m.\u001b[39;49mset_clip_path(\u001b[39mself\u001b[39;49m\u001b[39m.\u001b[39;49maxes\u001b[39m.\u001b[39;49mpatch)\n\u001b[0;32m    914\u001b[0m \u001b[39mexcept\u001b[39;00m \u001b[39mAttributeError\u001b[39;00m:\n\u001b[0;32m    915\u001b[0m     \u001b[39mpass\u001b[39;00m\n",
      "File \u001b[1;32mc:\\Users\\jbauer\\Anaconda3\\envs\\DeepImageReconstruction\\lib\\site-packages\\matplotlib\\axis.py:1012\u001b[0m, in \u001b[0;36mAxis.set_clip_path\u001b[1;34m(self, clippath, transform)\u001b[0m\n\u001b[0;32m   1010\u001b[0m \u001b[39mdef\u001b[39;00m \u001b[39mset_clip_path\u001b[39m(\u001b[39mself\u001b[39m, clippath, transform\u001b[39m=\u001b[39m\u001b[39mNone\u001b[39;00m):\n\u001b[0;32m   1011\u001b[0m     \u001b[39msuper\u001b[39m()\u001b[39m.\u001b[39mset_clip_path(clippath, transform)\n\u001b[1;32m-> 1012\u001b[0m     \u001b[39mfor\u001b[39;00m child \u001b[39min\u001b[39;00m \u001b[39mself\u001b[39;49m\u001b[39m.\u001b[39;49mmajorTicks \u001b[39m+\u001b[39m \u001b[39mself\u001b[39m\u001b[39m.\u001b[39mminorTicks:\n\u001b[0;32m   1013\u001b[0m         child\u001b[39m.\u001b[39mset_clip_path(clippath, transform)\n\u001b[0;32m   1014\u001b[0m     \u001b[39mself\u001b[39m\u001b[39m.\u001b[39mstale \u001b[39m=\u001b[39m \u001b[39mTrue\u001b[39;00m\n",
      "File \u001b[1;32mc:\\Users\\jbauer\\Anaconda3\\envs\\DeepImageReconstruction\\lib\\site-packages\\matplotlib\\axis.py:599\u001b[0m, in \u001b[0;36m_LazyTickList.__get__\u001b[1;34m(self, instance, cls)\u001b[0m\n\u001b[0;32m    597\u001b[0m \u001b[39mif\u001b[39;00m \u001b[39mself\u001b[39m\u001b[39m.\u001b[39m_major:\n\u001b[0;32m    598\u001b[0m     instance\u001b[39m.\u001b[39mmajorTicks \u001b[39m=\u001b[39m []\n\u001b[1;32m--> 599\u001b[0m     tick \u001b[39m=\u001b[39m instance\u001b[39m.\u001b[39;49m_get_tick(major\u001b[39m=\u001b[39;49m\u001b[39mTrue\u001b[39;49;00m)\n\u001b[0;32m    600\u001b[0m     instance\u001b[39m.\u001b[39mmajorTicks\u001b[39m.\u001b[39mappend(tick)\n\u001b[0;32m    601\u001b[0m     \u001b[39mreturn\u001b[39;00m instance\u001b[39m.\u001b[39mmajorTicks\n",
      "File \u001b[1;32mc:\\Users\\jbauer\\Anaconda3\\envs\\DeepImageReconstruction\\lib\\site-packages\\matplotlib\\axis.py:1483\u001b[0m, in \u001b[0;36mAxis._get_tick\u001b[1;34m(self, major)\u001b[0m\n\u001b[0;32m   1479\u001b[0m     \u001b[39mraise\u001b[39;00m \u001b[39mNotImplementedError\u001b[39;00m(\n\u001b[0;32m   1480\u001b[0m         \u001b[39mf\u001b[39m\u001b[39m\"\u001b[39m\u001b[39mThe Axis subclass \u001b[39m\u001b[39m{\u001b[39;00m\u001b[39mself\u001b[39m\u001b[39m.\u001b[39m\u001b[39m__class__\u001b[39m\u001b[39m.\u001b[39m\u001b[39m__name__\u001b[39m\u001b[39m}\u001b[39;00m\u001b[39m must define \u001b[39m\u001b[39m\"\u001b[39m\n\u001b[0;32m   1481\u001b[0m         \u001b[39m\"\u001b[39m\u001b[39m_tick_class or reimplement _get_tick()\u001b[39m\u001b[39m\"\u001b[39m)\n\u001b[0;32m   1482\u001b[0m tick_kw \u001b[39m=\u001b[39m \u001b[39mself\u001b[39m\u001b[39m.\u001b[39m_major_tick_kw \u001b[39mif\u001b[39;00m major \u001b[39melse\u001b[39;00m \u001b[39mself\u001b[39m\u001b[39m.\u001b[39m_minor_tick_kw\n\u001b[1;32m-> 1483\u001b[0m \u001b[39mreturn\u001b[39;00m \u001b[39mself\u001b[39;49m\u001b[39m.\u001b[39;49m_tick_class(\u001b[39mself\u001b[39;49m\u001b[39m.\u001b[39;49maxes, \u001b[39m0\u001b[39;49m, major\u001b[39m=\u001b[39;49mmajor, \u001b[39m*\u001b[39;49m\u001b[39m*\u001b[39;49mtick_kw)\n",
      "File \u001b[1;32mc:\\Users\\jbauer\\Anaconda3\\envs\\DeepImageReconstruction\\lib\\site-packages\\matplotlib\\axis.py:422\u001b[0m, in \u001b[0;36mXTick.__init__\u001b[1;34m(self, *args, **kwargs)\u001b[0m\n\u001b[0;32m    421\u001b[0m \u001b[39mdef\u001b[39;00m \u001b[39m__init__\u001b[39m(\u001b[39mself\u001b[39m, \u001b[39m*\u001b[39margs, \u001b[39m*\u001b[39m\u001b[39m*\u001b[39mkwargs):\n\u001b[1;32m--> 422\u001b[0m     \u001b[39msuper\u001b[39;49m()\u001b[39m.\u001b[39;49m\u001b[39m__init__\u001b[39;49m(\u001b[39m*\u001b[39;49margs, \u001b[39m*\u001b[39;49m\u001b[39m*\u001b[39;49mkwargs)\n\u001b[0;32m    423\u001b[0m     \u001b[39m# x in data coords, y in axes coords\u001b[39;00m\n\u001b[0;32m    424\u001b[0m     ax \u001b[39m=\u001b[39m \u001b[39mself\u001b[39m\u001b[39m.\u001b[39maxes\n",
      "File \u001b[1;32mc:\\Users\\jbauer\\Anaconda3\\envs\\DeepImageReconstruction\\lib\\site-packages\\matplotlib\\axis.py:172\u001b[0m, in \u001b[0;36mTick.__init__\u001b[1;34m(self, axes, loc, size, width, color, tickdir, pad, labelsize, labelcolor, zorder, gridOn, tick1On, tick2On, label1On, label2On, major, labelrotation, grid_color, grid_linestyle, grid_linewidth, grid_alpha, **kwargs)\u001b[0m\n\u001b[0;32m    161\u001b[0m \u001b[39mself\u001b[39m\u001b[39m.\u001b[39mtick2line \u001b[39m=\u001b[39m mlines\u001b[39m.\u001b[39mLine2D(\n\u001b[0;32m    162\u001b[0m     [], [],\n\u001b[0;32m    163\u001b[0m     color\u001b[39m=\u001b[39mcolor, linestyle\u001b[39m=\u001b[39m\u001b[39m\"\u001b[39m\u001b[39mnone\u001b[39m\u001b[39m\"\u001b[39m, zorder\u001b[39m=\u001b[39mzorder, visible\u001b[39m=\u001b[39mtick2On,\n\u001b[0;32m    164\u001b[0m     markeredgecolor\u001b[39m=\u001b[39mcolor, markersize\u001b[39m=\u001b[39msize, markeredgewidth\u001b[39m=\u001b[39mwidth,\n\u001b[0;32m    165\u001b[0m )\n\u001b[0;32m    166\u001b[0m \u001b[39mself\u001b[39m\u001b[39m.\u001b[39mgridline \u001b[39m=\u001b[39m mlines\u001b[39m.\u001b[39mLine2D(\n\u001b[0;32m    167\u001b[0m     [], [],\n\u001b[0;32m    168\u001b[0m     color\u001b[39m=\u001b[39mgrid_color, alpha\u001b[39m=\u001b[39mgrid_alpha, visible\u001b[39m=\u001b[39mgridOn,\n\u001b[0;32m    169\u001b[0m     linestyle\u001b[39m=\u001b[39mgrid_linestyle, linewidth\u001b[39m=\u001b[39mgrid_linewidth, marker\u001b[39m=\u001b[39m\u001b[39m\"\u001b[39m\u001b[39m\"\u001b[39m,\n\u001b[0;32m    170\u001b[0m     \u001b[39m*\u001b[39m\u001b[39m*\u001b[39mgrid_kw,\n\u001b[0;32m    171\u001b[0m )\n\u001b[1;32m--> 172\u001b[0m \u001b[39mself\u001b[39;49m\u001b[39m.\u001b[39;49mgridline\u001b[39m.\u001b[39;49mget_path()\u001b[39m.\u001b[39m_interpolation_steps \u001b[39m=\u001b[39m \\\n\u001b[0;32m    173\u001b[0m     GRIDLINE_INTERPOLATION_STEPS\n\u001b[0;32m    174\u001b[0m \u001b[39mself\u001b[39m\u001b[39m.\u001b[39mlabel1 \u001b[39m=\u001b[39m mtext\u001b[39m.\u001b[39mText(\n\u001b[0;32m    175\u001b[0m     np\u001b[39m.\u001b[39mnan, np\u001b[39m.\u001b[39mnan,\n\u001b[0;32m    176\u001b[0m     fontsize\u001b[39m=\u001b[39mlabelsize, color\u001b[39m=\u001b[39mlabelcolor, visible\u001b[39m=\u001b[39mlabel1On,\n\u001b[0;32m    177\u001b[0m     rotation\u001b[39m=\u001b[39m\u001b[39mself\u001b[39m\u001b[39m.\u001b[39m_labelrotation[\u001b[39m1\u001b[39m])\n\u001b[0;32m    178\u001b[0m \u001b[39mself\u001b[39m\u001b[39m.\u001b[39mlabel2 \u001b[39m=\u001b[39m mtext\u001b[39m.\u001b[39mText(\n\u001b[0;32m    179\u001b[0m     np\u001b[39m.\u001b[39mnan, np\u001b[39m.\u001b[39mnan,\n\u001b[0;32m    180\u001b[0m     fontsize\u001b[39m=\u001b[39mlabelsize, color\u001b[39m=\u001b[39mlabelcolor, visible\u001b[39m=\u001b[39mlabel2On,\n\u001b[0;32m    181\u001b[0m     rotation\u001b[39m=\u001b[39m\u001b[39mself\u001b[39m\u001b[39m.\u001b[39m_labelrotation[\u001b[39m1\u001b[39m])\n",
      "File \u001b[1;32mc:\\Users\\jbauer\\Anaconda3\\envs\\DeepImageReconstruction\\lib\\site-packages\\matplotlib\\lines.py:1031\u001b[0m, in \u001b[0;36mLine2D.get_path\u001b[1;34m(self)\u001b[0m\n\u001b[0;32m   1029\u001b[0m \u001b[39m\"\"\"Return the `~matplotlib.path.Path` associated with this line.\"\"\"\u001b[39;00m\n\u001b[0;32m   1030\u001b[0m \u001b[39mif\u001b[39;00m \u001b[39mself\u001b[39m\u001b[39m.\u001b[39m_invalidy \u001b[39mor\u001b[39;00m \u001b[39mself\u001b[39m\u001b[39m.\u001b[39m_invalidx:\n\u001b[1;32m-> 1031\u001b[0m     \u001b[39mself\u001b[39;49m\u001b[39m.\u001b[39;49mrecache()\n\u001b[0;32m   1032\u001b[0m \u001b[39mreturn\u001b[39;00m \u001b[39mself\u001b[39m\u001b[39m.\u001b[39m_path\n",
      "File \u001b[1;32mc:\\Users\\jbauer\\Anaconda3\\envs\\DeepImageReconstruction\\lib\\site-packages\\matplotlib\\lines.py:668\u001b[0m, in \u001b[0;36mLine2D.recache\u001b[1;34m(self, always)\u001b[0m\n\u001b[0;32m    665\u001b[0m \u001b[39melse\u001b[39;00m:\n\u001b[0;32m    666\u001b[0m     y \u001b[39m=\u001b[39m \u001b[39mself\u001b[39m\u001b[39m.\u001b[39m_y\n\u001b[1;32m--> 668\u001b[0m \u001b[39mself\u001b[39m\u001b[39m.\u001b[39m_xy \u001b[39m=\u001b[39m np\u001b[39m.\u001b[39;49mcolumn_stack(np\u001b[39m.\u001b[39;49mbroadcast_arrays(x, y))\u001b[39m.\u001b[39;49mastype(\u001b[39mfloat\u001b[39;49m)\n\u001b[0;32m    669\u001b[0m \u001b[39mself\u001b[39m\u001b[39m.\u001b[39m_x, \u001b[39mself\u001b[39m\u001b[39m.\u001b[39m_y \u001b[39m=\u001b[39m \u001b[39mself\u001b[39m\u001b[39m.\u001b[39m_xy\u001b[39m.\u001b[39mT  \u001b[39m# views\u001b[39;00m\n\u001b[0;32m    671\u001b[0m \u001b[39mself\u001b[39m\u001b[39m.\u001b[39m_subslice \u001b[39m=\u001b[39m \u001b[39mFalse\u001b[39;00m\n",
      "\u001b[1;31mKeyboardInterrupt\u001b[0m: "
     ]
    },
    {
     "name": "stdout",
     "output_type": "stream",
     "text": [
      "Error in callback <function _draw_all_if_interactive at 0x000002972316B550> (for post_execute):\n"
     ]
    },
    {
     "ename": "IndexError",
     "evalue": "list index out of range",
     "output_type": "error",
     "traceback": [
      "\u001b[1;31m---------------------------------------------------------------------------\u001b[0m",
      "\u001b[1;31mIndexError\u001b[0m                                Traceback (most recent call last)",
      "File \u001b[1;32mc:\\Users\\jbauer\\Anaconda3\\envs\\DeepImageReconstruction\\lib\\site-packages\\matplotlib\\pyplot.py:119\u001b[0m, in \u001b[0;36m_draw_all_if_interactive\u001b[1;34m()\u001b[0m\n\u001b[0;32m    117\u001b[0m \u001b[39mdef\u001b[39;00m \u001b[39m_draw_all_if_interactive\u001b[39m():\n\u001b[0;32m    118\u001b[0m     \u001b[39mif\u001b[39;00m matplotlib\u001b[39m.\u001b[39mis_interactive():\n\u001b[1;32m--> 119\u001b[0m         draw_all()\n",
      "File \u001b[1;32mc:\\Users\\jbauer\\Anaconda3\\envs\\DeepImageReconstruction\\lib\\site-packages\\matplotlib\\_pylab_helpers.py:132\u001b[0m, in \u001b[0;36mGcf.draw_all\u001b[1;34m(cls, force)\u001b[0m\n\u001b[0;32m    130\u001b[0m \u001b[39mfor\u001b[39;00m manager \u001b[39min\u001b[39;00m \u001b[39mcls\u001b[39m\u001b[39m.\u001b[39mget_all_fig_managers():\n\u001b[0;32m    131\u001b[0m     \u001b[39mif\u001b[39;00m force \u001b[39mor\u001b[39;00m manager\u001b[39m.\u001b[39mcanvas\u001b[39m.\u001b[39mfigure\u001b[39m.\u001b[39mstale:\n\u001b[1;32m--> 132\u001b[0m         manager\u001b[39m.\u001b[39;49mcanvas\u001b[39m.\u001b[39;49mdraw_idle()\n",
      "File \u001b[1;32mc:\\Users\\jbauer\\Anaconda3\\envs\\DeepImageReconstruction\\lib\\site-packages\\matplotlib\\backend_bases.py:2054\u001b[0m, in \u001b[0;36mFigureCanvasBase.draw_idle\u001b[1;34m(self, *args, **kwargs)\u001b[0m\n\u001b[0;32m   2052\u001b[0m \u001b[39mif\u001b[39;00m \u001b[39mnot\u001b[39;00m \u001b[39mself\u001b[39m\u001b[39m.\u001b[39m_is_idle_drawing:\n\u001b[0;32m   2053\u001b[0m     \u001b[39mwith\u001b[39;00m \u001b[39mself\u001b[39m\u001b[39m.\u001b[39m_idle_draw_cntx():\n\u001b[1;32m-> 2054\u001b[0m         \u001b[39mself\u001b[39;49m\u001b[39m.\u001b[39;49mdraw(\u001b[39m*\u001b[39;49margs, \u001b[39m*\u001b[39;49m\u001b[39m*\u001b[39;49mkwargs)\n",
      "File \u001b[1;32mc:\\Users\\jbauer\\Anaconda3\\envs\\DeepImageReconstruction\\lib\\site-packages\\matplotlib\\backends\\backend_agg.py:405\u001b[0m, in \u001b[0;36mFigureCanvasAgg.draw\u001b[1;34m(self)\u001b[0m\n\u001b[0;32m    401\u001b[0m \u001b[39m# Acquire a lock on the shared font cache.\u001b[39;00m\n\u001b[0;32m    402\u001b[0m \u001b[39mwith\u001b[39;00m RendererAgg\u001b[39m.\u001b[39mlock, \\\n\u001b[0;32m    403\u001b[0m      (\u001b[39mself\u001b[39m\u001b[39m.\u001b[39mtoolbar\u001b[39m.\u001b[39m_wait_cursor_for_draw_cm() \u001b[39mif\u001b[39;00m \u001b[39mself\u001b[39m\u001b[39m.\u001b[39mtoolbar\n\u001b[0;32m    404\u001b[0m       \u001b[39melse\u001b[39;00m nullcontext()):\n\u001b[1;32m--> 405\u001b[0m     \u001b[39mself\u001b[39;49m\u001b[39m.\u001b[39;49mfigure\u001b[39m.\u001b[39;49mdraw(\u001b[39mself\u001b[39;49m\u001b[39m.\u001b[39;49mrenderer)\n\u001b[0;32m    406\u001b[0m     \u001b[39m# A GUI class may be need to update a window using this draw, so\u001b[39;00m\n\u001b[0;32m    407\u001b[0m     \u001b[39m# don't forget to call the superclass.\u001b[39;00m\n\u001b[0;32m    408\u001b[0m     \u001b[39msuper\u001b[39m()\u001b[39m.\u001b[39mdraw()\n",
      "File \u001b[1;32mc:\\Users\\jbauer\\Anaconda3\\envs\\DeepImageReconstruction\\lib\\site-packages\\matplotlib\\artist.py:74\u001b[0m, in \u001b[0;36m_finalize_rasterization.<locals>.draw_wrapper\u001b[1;34m(artist, renderer, *args, **kwargs)\u001b[0m\n\u001b[0;32m     72\u001b[0m \u001b[39m@wraps\u001b[39m(draw)\n\u001b[0;32m     73\u001b[0m \u001b[39mdef\u001b[39;00m \u001b[39mdraw_wrapper\u001b[39m(artist, renderer, \u001b[39m*\u001b[39margs, \u001b[39m*\u001b[39m\u001b[39m*\u001b[39mkwargs):\n\u001b[1;32m---> 74\u001b[0m     result \u001b[39m=\u001b[39m draw(artist, renderer, \u001b[39m*\u001b[39;49margs, \u001b[39m*\u001b[39;49m\u001b[39m*\u001b[39;49mkwargs)\n\u001b[0;32m     75\u001b[0m     \u001b[39mif\u001b[39;00m renderer\u001b[39m.\u001b[39m_rasterizing:\n\u001b[0;32m     76\u001b[0m         renderer\u001b[39m.\u001b[39mstop_rasterizing()\n",
      "File \u001b[1;32mc:\\Users\\jbauer\\Anaconda3\\envs\\DeepImageReconstruction\\lib\\site-packages\\matplotlib\\artist.py:51\u001b[0m, in \u001b[0;36mallow_rasterization.<locals>.draw_wrapper\u001b[1;34m(artist, renderer)\u001b[0m\n\u001b[0;32m     48\u001b[0m     \u001b[39mif\u001b[39;00m artist\u001b[39m.\u001b[39mget_agg_filter() \u001b[39mis\u001b[39;00m \u001b[39mnot\u001b[39;00m \u001b[39mNone\u001b[39;00m:\n\u001b[0;32m     49\u001b[0m         renderer\u001b[39m.\u001b[39mstart_filter()\n\u001b[1;32m---> 51\u001b[0m     \u001b[39mreturn\u001b[39;00m draw(artist, renderer)\n\u001b[0;32m     52\u001b[0m \u001b[39mfinally\u001b[39;00m:\n\u001b[0;32m     53\u001b[0m     \u001b[39mif\u001b[39;00m artist\u001b[39m.\u001b[39mget_agg_filter() \u001b[39mis\u001b[39;00m \u001b[39mnot\u001b[39;00m \u001b[39mNone\u001b[39;00m:\n",
      "File \u001b[1;32mc:\\Users\\jbauer\\Anaconda3\\envs\\DeepImageReconstruction\\lib\\site-packages\\matplotlib\\figure.py:3071\u001b[0m, in \u001b[0;36mFigure.draw\u001b[1;34m(self, renderer)\u001b[0m\n\u001b[0;32m   3068\u001b[0m         \u001b[39m# ValueError can occur when resizing a window.\u001b[39;00m\n\u001b[0;32m   3070\u001b[0m \u001b[39mself\u001b[39m\u001b[39m.\u001b[39mpatch\u001b[39m.\u001b[39mdraw(renderer)\n\u001b[1;32m-> 3071\u001b[0m mimage\u001b[39m.\u001b[39;49m_draw_list_compositing_images(\n\u001b[0;32m   3072\u001b[0m     renderer, \u001b[39mself\u001b[39;49m, artists, \u001b[39mself\u001b[39;49m\u001b[39m.\u001b[39;49msuppressComposite)\n\u001b[0;32m   3074\u001b[0m \u001b[39mfor\u001b[39;00m sfig \u001b[39min\u001b[39;00m \u001b[39mself\u001b[39m\u001b[39m.\u001b[39msubfigs:\n\u001b[0;32m   3075\u001b[0m     sfig\u001b[39m.\u001b[39mdraw(renderer)\n",
      "File \u001b[1;32mc:\\Users\\jbauer\\Anaconda3\\envs\\DeepImageReconstruction\\lib\\site-packages\\matplotlib\\image.py:131\u001b[0m, in \u001b[0;36m_draw_list_compositing_images\u001b[1;34m(renderer, parent, artists, suppress_composite)\u001b[0m\n\u001b[0;32m    129\u001b[0m \u001b[39mif\u001b[39;00m not_composite \u001b[39mor\u001b[39;00m \u001b[39mnot\u001b[39;00m has_images:\n\u001b[0;32m    130\u001b[0m     \u001b[39mfor\u001b[39;00m a \u001b[39min\u001b[39;00m artists:\n\u001b[1;32m--> 131\u001b[0m         a\u001b[39m.\u001b[39;49mdraw(renderer)\n\u001b[0;32m    132\u001b[0m \u001b[39melse\u001b[39;00m:\n\u001b[0;32m    133\u001b[0m     \u001b[39m# Composite any adjacent images together\u001b[39;00m\n\u001b[0;32m    134\u001b[0m     image_group \u001b[39m=\u001b[39m []\n",
      "File \u001b[1;32mc:\\Users\\jbauer\\Anaconda3\\envs\\DeepImageReconstruction\\lib\\site-packages\\matplotlib\\artist.py:51\u001b[0m, in \u001b[0;36mallow_rasterization.<locals>.draw_wrapper\u001b[1;34m(artist, renderer)\u001b[0m\n\u001b[0;32m     48\u001b[0m     \u001b[39mif\u001b[39;00m artist\u001b[39m.\u001b[39mget_agg_filter() \u001b[39mis\u001b[39;00m \u001b[39mnot\u001b[39;00m \u001b[39mNone\u001b[39;00m:\n\u001b[0;32m     49\u001b[0m         renderer\u001b[39m.\u001b[39mstart_filter()\n\u001b[1;32m---> 51\u001b[0m     \u001b[39mreturn\u001b[39;00m draw(artist, renderer)\n\u001b[0;32m     52\u001b[0m \u001b[39mfinally\u001b[39;00m:\n\u001b[0;32m     53\u001b[0m     \u001b[39mif\u001b[39;00m artist\u001b[39m.\u001b[39mget_agg_filter() \u001b[39mis\u001b[39;00m \u001b[39mnot\u001b[39;00m \u001b[39mNone\u001b[39;00m:\n",
      "File \u001b[1;32mc:\\Users\\jbauer\\Anaconda3\\envs\\DeepImageReconstruction\\lib\\site-packages\\matplotlib\\axes\\_base.py:3071\u001b[0m, in \u001b[0;36m_AxesBase.draw\u001b[1;34m(self, renderer)\u001b[0m\n\u001b[0;32m   3068\u001b[0m     \u001b[39mfor\u001b[39;00m spine \u001b[39min\u001b[39;00m \u001b[39mself\u001b[39m\u001b[39m.\u001b[39mspines\u001b[39m.\u001b[39mvalues():\n\u001b[0;32m   3069\u001b[0m         artists\u001b[39m.\u001b[39mremove(spine)\n\u001b[1;32m-> 3071\u001b[0m \u001b[39mself\u001b[39;49m\u001b[39m.\u001b[39;49m_update_title_position(renderer)\n\u001b[0;32m   3073\u001b[0m \u001b[39mif\u001b[39;00m \u001b[39mnot\u001b[39;00m \u001b[39mself\u001b[39m\u001b[39m.\u001b[39maxison:\n\u001b[0;32m   3074\u001b[0m     \u001b[39mfor\u001b[39;00m _axis \u001b[39min\u001b[39;00m \u001b[39mself\u001b[39m\u001b[39m.\u001b[39m_axis_map\u001b[39m.\u001b[39mvalues():\n",
      "File \u001b[1;32mc:\\Users\\jbauer\\Anaconda3\\envs\\DeepImageReconstruction\\lib\\site-packages\\matplotlib\\axes\\_base.py:3004\u001b[0m, in \u001b[0;36m_AxesBase._update_title_position\u001b[1;34m(self, renderer)\u001b[0m\n\u001b[0;32m   3002\u001b[0m \u001b[39mfor\u001b[39;00m ax \u001b[39min\u001b[39;00m axs:\n\u001b[0;32m   3003\u001b[0m     bb \u001b[39m=\u001b[39m \u001b[39mNone\u001b[39;00m\n\u001b[1;32m-> 3004\u001b[0m     \u001b[39mif\u001b[39;00m (ax\u001b[39m.\u001b[39;49mxaxis\u001b[39m.\u001b[39;49mget_ticks_position() \u001b[39min\u001b[39;00m [\u001b[39m'\u001b[39m\u001b[39mtop\u001b[39m\u001b[39m'\u001b[39m, \u001b[39m'\u001b[39m\u001b[39munknown\u001b[39m\u001b[39m'\u001b[39m]\n\u001b[0;32m   3005\u001b[0m             \u001b[39mor\u001b[39;00m ax\u001b[39m.\u001b[39mxaxis\u001b[39m.\u001b[39mget_label_position() \u001b[39m==\u001b[39m \u001b[39m'\u001b[39m\u001b[39mtop\u001b[39m\u001b[39m'\u001b[39m):\n\u001b[0;32m   3006\u001b[0m         bb \u001b[39m=\u001b[39m ax\u001b[39m.\u001b[39mxaxis\u001b[39m.\u001b[39mget_tightbbox(renderer)\n\u001b[0;32m   3007\u001b[0m     \u001b[39mif\u001b[39;00m bb \u001b[39mis\u001b[39;00m \u001b[39mNone\u001b[39;00m:\n",
      "File \u001b[1;32mc:\\Users\\jbauer\\Anaconda3\\envs\\DeepImageReconstruction\\lib\\site-packages\\matplotlib\\axis.py:2399\u001b[0m, in \u001b[0;36mXAxis.get_ticks_position\u001b[1;34m(self)\u001b[0m\n\u001b[0;32m   2393\u001b[0m \u001b[39mdef\u001b[39;00m \u001b[39mget_ticks_position\u001b[39m(\u001b[39mself\u001b[39m):\n\u001b[0;32m   2394\u001b[0m     \u001b[39m\"\"\"\u001b[39;00m\n\u001b[0;32m   2395\u001b[0m \u001b[39m    Return the ticks position (\"top\", \"bottom\", \"default\", or \"unknown\").\u001b[39;00m\n\u001b[0;32m   2396\u001b[0m \u001b[39m    \"\"\"\u001b[39;00m\n\u001b[0;32m   2397\u001b[0m     \u001b[39mreturn\u001b[39;00m {\u001b[39m1\u001b[39m: \u001b[39m\"\u001b[39m\u001b[39mbottom\u001b[39m\u001b[39m\"\u001b[39m, \u001b[39m2\u001b[39m: \u001b[39m\"\u001b[39m\u001b[39mtop\u001b[39m\u001b[39m\"\u001b[39m,\n\u001b[0;32m   2398\u001b[0m             \u001b[39m\"\u001b[39m\u001b[39mdefault\u001b[39m\u001b[39m\"\u001b[39m: \u001b[39m\"\u001b[39m\u001b[39mdefault\u001b[39m\u001b[39m\"\u001b[39m, \u001b[39m\"\u001b[39m\u001b[39munknown\u001b[39m\u001b[39m\"\u001b[39m: \u001b[39m\"\u001b[39m\u001b[39munknown\u001b[39m\u001b[39m\"\u001b[39m}[\n\u001b[1;32m-> 2399\u001b[0m                 \u001b[39mself\u001b[39;49m\u001b[39m.\u001b[39;49m_get_ticks_position()]\n",
      "File \u001b[1;32mc:\\Users\\jbauer\\Anaconda3\\envs\\DeepImageReconstruction\\lib\\site-packages\\matplotlib\\axis.py:2111\u001b[0m, in \u001b[0;36mAxis._get_ticks_position\u001b[1;34m(self)\u001b[0m\n\u001b[0;32m   2097\u001b[0m \u001b[39mdef\u001b[39;00m \u001b[39m_get_ticks_position\u001b[39m(\u001b[39mself\u001b[39m):\n\u001b[0;32m   2098\u001b[0m     \u001b[39m\"\"\"\u001b[39;00m\n\u001b[0;32m   2099\u001b[0m \u001b[39m    Helper for `XAxis.get_ticks_position` and `YAxis.get_ticks_position`.\u001b[39;00m\n\u001b[0;32m   2100\u001b[0m \n\u001b[1;32m   (...)\u001b[0m\n\u001b[0;32m   2109\u001b[0m \u001b[39m    - \"unknown\" otherwise.\u001b[39;00m\n\u001b[0;32m   2110\u001b[0m \u001b[39m    \"\"\"\u001b[39;00m\n\u001b[1;32m-> 2111\u001b[0m     major \u001b[39m=\u001b[39m \u001b[39mself\u001b[39;49m\u001b[39m.\u001b[39;49mmajorTicks[\u001b[39m0\u001b[39;49m]\n\u001b[0;32m   2112\u001b[0m     minor \u001b[39m=\u001b[39m \u001b[39mself\u001b[39m\u001b[39m.\u001b[39mminorTicks[\u001b[39m0\u001b[39m]\n\u001b[0;32m   2113\u001b[0m     \u001b[39mif\u001b[39;00m \u001b[39mall\u001b[39m(tick\u001b[39m.\u001b[39mtick1line\u001b[39m.\u001b[39mget_visible()\n\u001b[0;32m   2114\u001b[0m            \u001b[39mand\u001b[39;00m \u001b[39mnot\u001b[39;00m tick\u001b[39m.\u001b[39mtick2line\u001b[39m.\u001b[39mget_visible()\n\u001b[0;32m   2115\u001b[0m            \u001b[39mand\u001b[39;00m tick\u001b[39m.\u001b[39mlabel1\u001b[39m.\u001b[39mget_visible()\n\u001b[0;32m   2116\u001b[0m            \u001b[39mand\u001b[39;00m \u001b[39mnot\u001b[39;00m tick\u001b[39m.\u001b[39mlabel2\u001b[39m.\u001b[39mget_visible()\n\u001b[0;32m   2117\u001b[0m            \u001b[39mfor\u001b[39;00m tick \u001b[39min\u001b[39;00m [major, minor]):\n",
      "\u001b[1;31mIndexError\u001b[0m: list index out of range"
     ]
    },
    {
     "ename": "IndexError",
     "evalue": "list index out of range",
     "output_type": "error",
     "traceback": [
      "\u001b[1;31m---------------------------------------------------------------------------\u001b[0m",
      "\u001b[1;31mIndexError\u001b[0m                                Traceback (most recent call last)",
      "File \u001b[1;32mc:\\Users\\jbauer\\Anaconda3\\envs\\DeepImageReconstruction\\lib\\site-packages\\IPython\\core\\formatters.py:338\u001b[0m, in \u001b[0;36mBaseFormatter.__call__\u001b[1;34m(self, obj)\u001b[0m\n\u001b[0;32m    336\u001b[0m     \u001b[39mpass\u001b[39;00m\n\u001b[0;32m    337\u001b[0m \u001b[39melse\u001b[39;00m:\n\u001b[1;32m--> 338\u001b[0m     \u001b[39mreturn\u001b[39;00m printer(obj)\n\u001b[0;32m    339\u001b[0m \u001b[39m# Finally look for special method names\u001b[39;00m\n\u001b[0;32m    340\u001b[0m method \u001b[39m=\u001b[39m get_real_method(obj, \u001b[39mself\u001b[39m\u001b[39m.\u001b[39mprint_method)\n",
      "File \u001b[1;32mc:\\Users\\jbauer\\Anaconda3\\envs\\DeepImageReconstruction\\lib\\site-packages\\IPython\\core\\pylabtools.py:152\u001b[0m, in \u001b[0;36mprint_figure\u001b[1;34m(fig, fmt, bbox_inches, base64, **kwargs)\u001b[0m\n\u001b[0;32m    149\u001b[0m     \u001b[39mfrom\u001b[39;00m \u001b[39mmatplotlib\u001b[39;00m\u001b[39m.\u001b[39;00m\u001b[39mbackend_bases\u001b[39;00m \u001b[39mimport\u001b[39;00m FigureCanvasBase\n\u001b[0;32m    150\u001b[0m     FigureCanvasBase(fig)\n\u001b[1;32m--> 152\u001b[0m fig\u001b[39m.\u001b[39;49mcanvas\u001b[39m.\u001b[39;49mprint_figure(bytes_io, \u001b[39m*\u001b[39;49m\u001b[39m*\u001b[39;49mkw)\n\u001b[0;32m    153\u001b[0m data \u001b[39m=\u001b[39m bytes_io\u001b[39m.\u001b[39mgetvalue()\n\u001b[0;32m    154\u001b[0m \u001b[39mif\u001b[39;00m fmt \u001b[39m==\u001b[39m \u001b[39m'\u001b[39m\u001b[39msvg\u001b[39m\u001b[39m'\u001b[39m:\n",
      "File \u001b[1;32mc:\\Users\\jbauer\\Anaconda3\\envs\\DeepImageReconstruction\\lib\\site-packages\\matplotlib\\backend_bases.py:2314\u001b[0m, in \u001b[0;36mFigureCanvasBase.print_figure\u001b[1;34m(self, filename, dpi, facecolor, edgecolor, orientation, format, bbox_inches, pad_inches, bbox_extra_artists, backend, **kwargs)\u001b[0m\n\u001b[0;32m   2308\u001b[0m     renderer \u001b[39m=\u001b[39m _get_renderer(\n\u001b[0;32m   2309\u001b[0m         \u001b[39mself\u001b[39m\u001b[39m.\u001b[39mfigure,\n\u001b[0;32m   2310\u001b[0m         functools\u001b[39m.\u001b[39mpartial(\n\u001b[0;32m   2311\u001b[0m             print_method, orientation\u001b[39m=\u001b[39morientation)\n\u001b[0;32m   2312\u001b[0m     )\n\u001b[0;32m   2313\u001b[0m     \u001b[39mwith\u001b[39;00m \u001b[39mgetattr\u001b[39m(renderer, \u001b[39m\"\u001b[39m\u001b[39m_draw_disabled\u001b[39m\u001b[39m\"\u001b[39m, nullcontext)():\n\u001b[1;32m-> 2314\u001b[0m         \u001b[39mself\u001b[39;49m\u001b[39m.\u001b[39;49mfigure\u001b[39m.\u001b[39;49mdraw(renderer)\n\u001b[0;32m   2316\u001b[0m \u001b[39mif\u001b[39;00m bbox_inches:\n\u001b[0;32m   2317\u001b[0m     \u001b[39mif\u001b[39;00m bbox_inches \u001b[39m==\u001b[39m \u001b[39m\"\u001b[39m\u001b[39mtight\u001b[39m\u001b[39m\"\u001b[39m:\n",
      "File \u001b[1;32mc:\\Users\\jbauer\\Anaconda3\\envs\\DeepImageReconstruction\\lib\\site-packages\\matplotlib\\artist.py:74\u001b[0m, in \u001b[0;36m_finalize_rasterization.<locals>.draw_wrapper\u001b[1;34m(artist, renderer, *args, **kwargs)\u001b[0m\n\u001b[0;32m     72\u001b[0m \u001b[39m@wraps\u001b[39m(draw)\n\u001b[0;32m     73\u001b[0m \u001b[39mdef\u001b[39;00m \u001b[39mdraw_wrapper\u001b[39m(artist, renderer, \u001b[39m*\u001b[39margs, \u001b[39m*\u001b[39m\u001b[39m*\u001b[39mkwargs):\n\u001b[1;32m---> 74\u001b[0m     result \u001b[39m=\u001b[39m draw(artist, renderer, \u001b[39m*\u001b[39;49margs, \u001b[39m*\u001b[39;49m\u001b[39m*\u001b[39;49mkwargs)\n\u001b[0;32m     75\u001b[0m     \u001b[39mif\u001b[39;00m renderer\u001b[39m.\u001b[39m_rasterizing:\n\u001b[0;32m     76\u001b[0m         renderer\u001b[39m.\u001b[39mstop_rasterizing()\n",
      "File \u001b[1;32mc:\\Users\\jbauer\\Anaconda3\\envs\\DeepImageReconstruction\\lib\\site-packages\\matplotlib\\artist.py:51\u001b[0m, in \u001b[0;36mallow_rasterization.<locals>.draw_wrapper\u001b[1;34m(artist, renderer)\u001b[0m\n\u001b[0;32m     48\u001b[0m     \u001b[39mif\u001b[39;00m artist\u001b[39m.\u001b[39mget_agg_filter() \u001b[39mis\u001b[39;00m \u001b[39mnot\u001b[39;00m \u001b[39mNone\u001b[39;00m:\n\u001b[0;32m     49\u001b[0m         renderer\u001b[39m.\u001b[39mstart_filter()\n\u001b[1;32m---> 51\u001b[0m     \u001b[39mreturn\u001b[39;00m draw(artist, renderer)\n\u001b[0;32m     52\u001b[0m \u001b[39mfinally\u001b[39;00m:\n\u001b[0;32m     53\u001b[0m     \u001b[39mif\u001b[39;00m artist\u001b[39m.\u001b[39mget_agg_filter() \u001b[39mis\u001b[39;00m \u001b[39mnot\u001b[39;00m \u001b[39mNone\u001b[39;00m:\n",
      "File \u001b[1;32mc:\\Users\\jbauer\\Anaconda3\\envs\\DeepImageReconstruction\\lib\\site-packages\\matplotlib\\figure.py:3071\u001b[0m, in \u001b[0;36mFigure.draw\u001b[1;34m(self, renderer)\u001b[0m\n\u001b[0;32m   3068\u001b[0m         \u001b[39m# ValueError can occur when resizing a window.\u001b[39;00m\n\u001b[0;32m   3070\u001b[0m \u001b[39mself\u001b[39m\u001b[39m.\u001b[39mpatch\u001b[39m.\u001b[39mdraw(renderer)\n\u001b[1;32m-> 3071\u001b[0m mimage\u001b[39m.\u001b[39;49m_draw_list_compositing_images(\n\u001b[0;32m   3072\u001b[0m     renderer, \u001b[39mself\u001b[39;49m, artists, \u001b[39mself\u001b[39;49m\u001b[39m.\u001b[39;49msuppressComposite)\n\u001b[0;32m   3074\u001b[0m \u001b[39mfor\u001b[39;00m sfig \u001b[39min\u001b[39;00m \u001b[39mself\u001b[39m\u001b[39m.\u001b[39msubfigs:\n\u001b[0;32m   3075\u001b[0m     sfig\u001b[39m.\u001b[39mdraw(renderer)\n",
      "File \u001b[1;32mc:\\Users\\jbauer\\Anaconda3\\envs\\DeepImageReconstruction\\lib\\site-packages\\matplotlib\\image.py:131\u001b[0m, in \u001b[0;36m_draw_list_compositing_images\u001b[1;34m(renderer, parent, artists, suppress_composite)\u001b[0m\n\u001b[0;32m    129\u001b[0m \u001b[39mif\u001b[39;00m not_composite \u001b[39mor\u001b[39;00m \u001b[39mnot\u001b[39;00m has_images:\n\u001b[0;32m    130\u001b[0m     \u001b[39mfor\u001b[39;00m a \u001b[39min\u001b[39;00m artists:\n\u001b[1;32m--> 131\u001b[0m         a\u001b[39m.\u001b[39;49mdraw(renderer)\n\u001b[0;32m    132\u001b[0m \u001b[39melse\u001b[39;00m:\n\u001b[0;32m    133\u001b[0m     \u001b[39m# Composite any adjacent images together\u001b[39;00m\n\u001b[0;32m    134\u001b[0m     image_group \u001b[39m=\u001b[39m []\n",
      "File \u001b[1;32mc:\\Users\\jbauer\\Anaconda3\\envs\\DeepImageReconstruction\\lib\\site-packages\\matplotlib\\artist.py:51\u001b[0m, in \u001b[0;36mallow_rasterization.<locals>.draw_wrapper\u001b[1;34m(artist, renderer)\u001b[0m\n\u001b[0;32m     48\u001b[0m     \u001b[39mif\u001b[39;00m artist\u001b[39m.\u001b[39mget_agg_filter() \u001b[39mis\u001b[39;00m \u001b[39mnot\u001b[39;00m \u001b[39mNone\u001b[39;00m:\n\u001b[0;32m     49\u001b[0m         renderer\u001b[39m.\u001b[39mstart_filter()\n\u001b[1;32m---> 51\u001b[0m     \u001b[39mreturn\u001b[39;00m draw(artist, renderer)\n\u001b[0;32m     52\u001b[0m \u001b[39mfinally\u001b[39;00m:\n\u001b[0;32m     53\u001b[0m     \u001b[39mif\u001b[39;00m artist\u001b[39m.\u001b[39mget_agg_filter() \u001b[39mis\u001b[39;00m \u001b[39mnot\u001b[39;00m \u001b[39mNone\u001b[39;00m:\n",
      "File \u001b[1;32mc:\\Users\\jbauer\\Anaconda3\\envs\\DeepImageReconstruction\\lib\\site-packages\\matplotlib\\axes\\_base.py:3071\u001b[0m, in \u001b[0;36m_AxesBase.draw\u001b[1;34m(self, renderer)\u001b[0m\n\u001b[0;32m   3068\u001b[0m     \u001b[39mfor\u001b[39;00m spine \u001b[39min\u001b[39;00m \u001b[39mself\u001b[39m\u001b[39m.\u001b[39mspines\u001b[39m.\u001b[39mvalues():\n\u001b[0;32m   3069\u001b[0m         artists\u001b[39m.\u001b[39mremove(spine)\n\u001b[1;32m-> 3071\u001b[0m \u001b[39mself\u001b[39;49m\u001b[39m.\u001b[39;49m_update_title_position(renderer)\n\u001b[0;32m   3073\u001b[0m \u001b[39mif\u001b[39;00m \u001b[39mnot\u001b[39;00m \u001b[39mself\u001b[39m\u001b[39m.\u001b[39maxison:\n\u001b[0;32m   3074\u001b[0m     \u001b[39mfor\u001b[39;00m _axis \u001b[39min\u001b[39;00m \u001b[39mself\u001b[39m\u001b[39m.\u001b[39m_axis_map\u001b[39m.\u001b[39mvalues():\n",
      "File \u001b[1;32mc:\\Users\\jbauer\\Anaconda3\\envs\\DeepImageReconstruction\\lib\\site-packages\\matplotlib\\axes\\_base.py:3004\u001b[0m, in \u001b[0;36m_AxesBase._update_title_position\u001b[1;34m(self, renderer)\u001b[0m\n\u001b[0;32m   3002\u001b[0m \u001b[39mfor\u001b[39;00m ax \u001b[39min\u001b[39;00m axs:\n\u001b[0;32m   3003\u001b[0m     bb \u001b[39m=\u001b[39m \u001b[39mNone\u001b[39;00m\n\u001b[1;32m-> 3004\u001b[0m     \u001b[39mif\u001b[39;00m (ax\u001b[39m.\u001b[39;49mxaxis\u001b[39m.\u001b[39;49mget_ticks_position() \u001b[39min\u001b[39;00m [\u001b[39m'\u001b[39m\u001b[39mtop\u001b[39m\u001b[39m'\u001b[39m, \u001b[39m'\u001b[39m\u001b[39munknown\u001b[39m\u001b[39m'\u001b[39m]\n\u001b[0;32m   3005\u001b[0m             \u001b[39mor\u001b[39;00m ax\u001b[39m.\u001b[39mxaxis\u001b[39m.\u001b[39mget_label_position() \u001b[39m==\u001b[39m \u001b[39m'\u001b[39m\u001b[39mtop\u001b[39m\u001b[39m'\u001b[39m):\n\u001b[0;32m   3006\u001b[0m         bb \u001b[39m=\u001b[39m ax\u001b[39m.\u001b[39mxaxis\u001b[39m.\u001b[39mget_tightbbox(renderer)\n\u001b[0;32m   3007\u001b[0m     \u001b[39mif\u001b[39;00m bb \u001b[39mis\u001b[39;00m \u001b[39mNone\u001b[39;00m:\n",
      "File \u001b[1;32mc:\\Users\\jbauer\\Anaconda3\\envs\\DeepImageReconstruction\\lib\\site-packages\\matplotlib\\axis.py:2399\u001b[0m, in \u001b[0;36mXAxis.get_ticks_position\u001b[1;34m(self)\u001b[0m\n\u001b[0;32m   2393\u001b[0m \u001b[39mdef\u001b[39;00m \u001b[39mget_ticks_position\u001b[39m(\u001b[39mself\u001b[39m):\n\u001b[0;32m   2394\u001b[0m     \u001b[39m\"\"\"\u001b[39;00m\n\u001b[0;32m   2395\u001b[0m \u001b[39m    Return the ticks position (\"top\", \"bottom\", \"default\", or \"unknown\").\u001b[39;00m\n\u001b[0;32m   2396\u001b[0m \u001b[39m    \"\"\"\u001b[39;00m\n\u001b[0;32m   2397\u001b[0m     \u001b[39mreturn\u001b[39;00m {\u001b[39m1\u001b[39m: \u001b[39m\"\u001b[39m\u001b[39mbottom\u001b[39m\u001b[39m\"\u001b[39m, \u001b[39m2\u001b[39m: \u001b[39m\"\u001b[39m\u001b[39mtop\u001b[39m\u001b[39m\"\u001b[39m,\n\u001b[0;32m   2398\u001b[0m             \u001b[39m\"\u001b[39m\u001b[39mdefault\u001b[39m\u001b[39m\"\u001b[39m: \u001b[39m\"\u001b[39m\u001b[39mdefault\u001b[39m\u001b[39m\"\u001b[39m, \u001b[39m\"\u001b[39m\u001b[39munknown\u001b[39m\u001b[39m\"\u001b[39m: \u001b[39m\"\u001b[39m\u001b[39munknown\u001b[39m\u001b[39m\"\u001b[39m}[\n\u001b[1;32m-> 2399\u001b[0m                 \u001b[39mself\u001b[39;49m\u001b[39m.\u001b[39;49m_get_ticks_position()]\n",
      "File \u001b[1;32mc:\\Users\\jbauer\\Anaconda3\\envs\\DeepImageReconstruction\\lib\\site-packages\\matplotlib\\axis.py:2111\u001b[0m, in \u001b[0;36mAxis._get_ticks_position\u001b[1;34m(self)\u001b[0m\n\u001b[0;32m   2097\u001b[0m \u001b[39mdef\u001b[39;00m \u001b[39m_get_ticks_position\u001b[39m(\u001b[39mself\u001b[39m):\n\u001b[0;32m   2098\u001b[0m     \u001b[39m\"\"\"\u001b[39;00m\n\u001b[0;32m   2099\u001b[0m \u001b[39m    Helper for `XAxis.get_ticks_position` and `YAxis.get_ticks_position`.\u001b[39;00m\n\u001b[0;32m   2100\u001b[0m \n\u001b[1;32m   (...)\u001b[0m\n\u001b[0;32m   2109\u001b[0m \u001b[39m    - \"unknown\" otherwise.\u001b[39;00m\n\u001b[0;32m   2110\u001b[0m \u001b[39m    \"\"\"\u001b[39;00m\n\u001b[1;32m-> 2111\u001b[0m     major \u001b[39m=\u001b[39m \u001b[39mself\u001b[39;49m\u001b[39m.\u001b[39;49mmajorTicks[\u001b[39m0\u001b[39;49m]\n\u001b[0;32m   2112\u001b[0m     minor \u001b[39m=\u001b[39m \u001b[39mself\u001b[39m\u001b[39m.\u001b[39mminorTicks[\u001b[39m0\u001b[39m]\n\u001b[0;32m   2113\u001b[0m     \u001b[39mif\u001b[39;00m \u001b[39mall\u001b[39m(tick\u001b[39m.\u001b[39mtick1line\u001b[39m.\u001b[39mget_visible()\n\u001b[0;32m   2114\u001b[0m            \u001b[39mand\u001b[39;00m \u001b[39mnot\u001b[39;00m tick\u001b[39m.\u001b[39mtick2line\u001b[39m.\u001b[39mget_visible()\n\u001b[0;32m   2115\u001b[0m            \u001b[39mand\u001b[39;00m tick\u001b[39m.\u001b[39mlabel1\u001b[39m.\u001b[39mget_visible()\n\u001b[0;32m   2116\u001b[0m            \u001b[39mand\u001b[39;00m \u001b[39mnot\u001b[39;00m tick\u001b[39m.\u001b[39mlabel2\u001b[39m.\u001b[39mget_visible()\n\u001b[0;32m   2117\u001b[0m            \u001b[39mfor\u001b[39;00m tick \u001b[39min\u001b[39;00m [major, minor]):\n",
      "\u001b[1;31mIndexError\u001b[0m: list index out of range"
     ]
    },
    {
     "data": {
      "text/plain": [
       "<Figure size 640x480 with 1 Axes>"
      ]
     },
     "metadata": {},
     "output_type": "display_data"
    }
   ],
   "source": [
    "from tqdm import tqdm\n",
    "from IPython import display\n",
    "\n",
    "# training loop\n",
    "epochs = 30 # \n",
    "\n",
    "plt.figure()\n",
    "for ep_n in range(epochs):\n",
    "\n",
    "    for img,label in tqdm(loaders['train']):\n",
    "        img = img.to(device)\n",
    "        label = label.to(device)\n",
    "        net.train()\n",
    "        run_model(img,label,net,optimizer,loss,train=True)\n",
    "\n",
    "    # train set loss\n",
    "    img,label=next(iter(loaders['train'])) # get a batch\n",
    "    img = img.to(device)\n",
    "    label = label.to(device)\n",
    "    batch_loss, _, _, _ = run_model(img,label,net,optimizer,loss)\n",
    "    loss_train.append(batch_loss.cpu().detach().numpy())\n",
    "\n",
    "    # test set loss\n",
    "    img,label=next(iter(loaders['test'])) # get a batch\n",
    "    img = img.to(device)\n",
    "    label = label.to(device)\n",
    "    batch_loss, _, _, _ = run_model(img,label,net,optimizer,loss)\n",
    "    loss_test.append(batch_loss.cpu().detach().numpy())\n",
    "\n",
    "    # plot the losses\n",
    "    plt.clf()\n",
    "    train_handle = plt.plot(loss_train, color='blue',label='training set')\n",
    "    test_handle = plt.plot(loss_test, color='red',label='test set')\n",
    "    plt.xlabel('epoch')\n",
    "    plt.ylabel('loss')\n",
    "    plt.legend()\n",
    "    display.clear_output(wait=True) # necessary in order to refresh the plot, otherwise it will print a new plot each epoch\n",
    "    display.display(plt.gcf())\n",
    "        \n",
    "    "
   ]
  },
  {
   "attachments": {},
   "cell_type": "markdown",
   "metadata": {},
   "source": [
    "## 5) Evaluating performance\n",
    "\n",
    "If all has gone well our loss function should have decreased substantially and reached a platough. Or you've gotten board, cut the training of early and would just like to see how well the model is doing right now.\n",
    "\n",
    "To get a feeling of for the models performance we will get multiple batches of test data, caculate the classificiation accuracy of the this set and then plot a few examples."
   ]
  },
  {
   "cell_type": "code",
   "execution_count": null,
   "metadata": {},
   "outputs": [
    {
     "name": "stdout",
     "output_type": "stream",
     "text": [
      "label: [1 7 9 1 1 3 7 2 0 9 9 2 1 2 1 5 2 4 1 9 4 8 4 6 1 5 9 8 3 6 7]\n",
      "label prediction: [1 7 9 1 1 3 7 2 0 9 9 2 1 2 1 5 2 4 1 9 4 8 4 6 1 5 9 8 3 6 7]\n",
      "label weights first example: [  0. 100.   0.   0.   0.   0.   0.   0.   0.   0.]\n",
      "loss: 1.4884319\n",
      "accuracy: 97.59%\n"
     ]
    },
    {
     "data": {
      "image/png": "[encoded data removed]",
      "text/plain": [
       "<Figure size 800x800 with 25 Axes>"
      ]
     },
     "metadata": {},
     "output_type": "display_data"
    }
   ],
   "source": [
    "# check its all working\n",
    "loader_temp = iter(loaders['test'])\n",
    "img,label = next(loader_temp) # get a batch\n",
    "for i in range(10): # get multiple batches to get more accurate estimates\n",
    "    img_temp, label_temp = next(loader_temp)\n",
    "    img=torch.cat((img,img_temp),dim=0)\n",
    "    label=torch.cat((label,label_temp),dim=0)\n",
    "img = img.to(device)\n",
    "label = label.to(device)\n",
    "batch_loss, label_pred, label_pred_int, accuracy = run_model(img,label,net,optimizer,loss)\n",
    "\n",
    "\n",
    "img=img.cpu().detach().numpy()\n",
    "label=label.cpu().detach().numpy()\n",
    "batch_loss=batch_loss.cpu().detach().numpy()\n",
    "label_pred=label_pred.cpu().detach().numpy()\n",
    "label_pred_int=label_pred_int.cpu().detach().numpy()\n",
    "\n",
    "print('label: ' + np.array2string(label[0:31]))\n",
    "print('label prediction: ' + np.array2string(label_pred_int[0:31]))\n",
    "print('label weights first example: ' + np.array2string(label_pred[0]*100,precision=0,suppress_small=True))\n",
    "print('loss: ' + np.array2string(batch_loss))\n",
    "print('accuracy: ' + str(round(accuracy, 2)) + '%')\n",
    "\n",
    "plot_examples.plot(img,label,label_pred_int)"
   ]
  },
  {
   "attachments": {},
   "cell_type": "markdown",
   "metadata": {},
   "source": [
    "## 6) Saving and re-loading models\n",
    "\n",
    "Now that we have a model that performs reasonably well, we want to save it. When you save models you save two things separatly 1) the architecture, which we is already saved, e.g. DFF.py, 2) the model weights, or state."
   ]
  },
  {
   "cell_type": "code",
   "execution_count": null,
   "metadata": {},
   "outputs": [],
   "source": [
    "torch.save(net.state_dict(), '/PytorchTutorial/MNIST_DFF1.pt')"
   ]
  },
  {
   "attachments": {},
   "cell_type": "markdown",
   "metadata": {},
   "source": [
    "When we want to retreave a trained model we also need to recover it in two stages."
   ]
  },
  {
   "cell_type": "code",
   "execution_count": null,
   "metadata": {},
   "outputs": [
    {
     "data": {
      "text/plain": [
       "<All keys matched successfully>"
      ]
     },
     "execution_count": 54,
     "metadata": {},
     "output_type": "execute_result"
    }
   ],
   "source": [
    "#load model \n",
    "from Models import DFF as model# try DFF\n",
    "net2 = model().to(device)\n",
    "\n",
    "# load weights into model\n",
    "net2.load_state_dict(torch.load('/PytorchTutorial/MNIST_DFF1.pt'))\n",
    "# net2.load_state_dict(torch.load('/PytorchTutorial/MNIST_DFF_pretrained.pt')) # or a model we prepared earlier"
   ]
  },
  {
   "attachments": {},
   "cell_type": "markdown",
   "metadata": {},
   "source": [
    "# The End"
   ]
  }
 ],
 "metadata": {
  "kernelspec": {
   "display_name": "DeepImageReconstruction",
   "language": "python",
   "name": "python3"
  },
  "language_info": {
   "codemirror_mode": {
    "name": "ipython",
    "version": 3
   },
   "file_extension": ".py",
   "mimetype": "text/x-python",
   "name": "python",
   "nbconvert_exporter": "python",
   "pygments_lexer": "ipython3",
   "version": "3.8.15"
  },
  "orig_nbformat": 4
 },
 "nbformat": 4,
 "nbformat_minor": 2
}
