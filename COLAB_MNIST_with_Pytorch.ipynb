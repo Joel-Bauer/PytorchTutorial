{
  "cells": [
    {
      "cell_type": "markdown",
      "metadata": {
        "id": "view-in-github",
        "colab_type": "text"
      },
      "source": [
        "<a href=\"https://colab.research.google.com/github/Joel-Bauer/PytorchTutorial/blob/main/COLAB_MNIST_with_Pytorch.ipynb\" target=\"_parent\"><img src=\"https://colab.research.google.com/assets/colab-badge.svg\" alt=\"Open In Colab\"/></a>"
      ]
    },
    {
      "cell_type": "markdown",
      "metadata": {
        "id": "tLIezsVXkb8J"
      },
      "source": [
        "# Welcome to PyTorch!\n",
        "The purpose of this little tutorial is to introduce you to the basics of the pytorch deep learning package, and how to structure a small project.\n",
        "We will use a classic deep learning introductory problem, classification of single hand writen digets from the MNIST databse (Modified National Institute of Standars and Technology database).\n"
      ]
    },
    {
      "cell_type": "markdown",
      "source": [
        "# Installation and Setup\n",
        "\n",
        "Before we begin, please make sure to go to File > Save a Copy in Drive. This makes sure that any changes you make are saved just for you, and not the whole group! Once you've copied the file, go to Runtime > Change Runtime Type, and select _GPU_ under Hardware Accelerator."
      ],
      "metadata": {
        "id": "4dRnpXpXklNp"
      }
    },
    {
      "cell_type": "code",
      "source": [
        "import os\n",
        "from google.colab import drive\n",
        "drive.mount(\"/content/gdrive\")\n",
        "\n",
        "%cd gdrive/MyDrive/\n",
        "\n",
        "if not os.path.isdir(os.path.join(os.getcwd(), \"PytorchTutorial\")):\n",
        "  ! git clone https://github.com/Joel-Bauer/PytorchTutorial.git\n",
        "  %cd PytorchTutorial\n",
        "  ! pip install -r requirements.txt\n",
        "else:\n",
        "  ! git pull\n",
        "  ! pip install -r requirements.txt"
      ],
      "metadata": {
        "id": "AdN2-S7UkoHL",
        "colab": {
          "base_uri": "https://localhost:8080/"
        },
        "outputId": "73fd7082-6da3-4c8f-af39-00115f3e25eb"
      },
      "execution_count": null,
      "outputs": [
        {
          "output_type": "stream",
          "name": "stdout",
          "text": [
            "Drive already mounted at /content/gdrive; to attempt to forcibly remount, call drive.mount(\"/content/gdrive\", force_remount=True).\n",
            "[Errno 2] No such file or directory: 'gdrive/MyDrive/'\n",
            "/content/gdrive/MyDrive/PytorchTutorial\n",
            "Updating 8cd5310..9a1844d\n",
            "error: Your local changes to the following files would be overwritten by merge:\n",
            "\tMNIST_DFF1.pt\n",
            "\trequirements.txt\n",
            "Please commit your changes or stash them before you merge.\n",
            "Aborting\n",
            "Looking in indexes: https://pypi.org/simple, https://us-python.pkg.dev/colab-wheels/public/simple/\n",
            "Collecting importlib (from -r requirements.txt (line 1))\n",
            "  Downloading importlib-1.0.4.zip (7.1 kB)\n",
            "  Preparing metadata (setup.py) ... \u001b[?25l\u001b[?25hdone\n",
            "Requirement already satisfied: matplotlib in /usr/local/lib/python3.10/dist-packages (from -r requirements.txt (line 2)) (3.7.1)\n",
            "\u001b[31mERROR: Could not find a version that satisfies the requirement onxx (from versions: none)\u001b[0m\u001b[31m\n",
            "\u001b[0m\u001b[31mERROR: No matching distribution found for onxx\u001b[0m\u001b[31m\n",
            "\u001b[0m"
          ]
        }
      ]
    },
    {
      "cell_type": "markdown",
      "source": [
        "# Imports\n",
        "Just run the cell below"
      ],
      "metadata": {
        "id": "1UE10cvCxH1m"
      }
    },
    {
      "cell_type": "code",
      "source": [
        "import numpy as np\n",
        "import matplotlib.pyplot as plt\n",
        "from tqdm import tqdm\n",
        "from IPython import display\n",
        "\n",
        "%load_ext autoreload\n",
        "%autoreload 2"
      ],
      "metadata": {
        "id": "p7lYdXLUxVEu"
      },
      "execution_count": null,
      "outputs": []
    },
    {
      "cell_type": "markdown",
      "source": [
        "# Helper and Plotting Functions\n",
        "Just run the cell below"
      ],
      "metadata": {
        "id": "3vkXCTs6xNXI"
      }
    },
    {
      "cell_type": "code",
      "source": [
        "def plot_examples(imgs, labels, Label_predictions):\n",
        "    figure = plt.figure(figsize=(8, 8))\n",
        "    cols, rows = 5, 5\n",
        "    for i in range(1, cols * rows + 1):\n",
        "        figure.add_subplot(rows, cols, i) \n",
        "        if len(Label_predictions)<1:\n",
        "            plt.title(np.array2string(labels[i]) )\n",
        "        else:\n",
        "            plt.title(np.array2string(labels[i]) + '(' + np.array2string(Label_predictions[i]) + ')')\n",
        "        plt.axis(\"off\")\n",
        "        plt.imshow(imgs[i].squeeze(), cmap=\"gray\")\n",
        "    plt.show()"
      ],
      "metadata": {
        "id": "zqxCc0u8xvFy"
      },
      "execution_count": null,
      "outputs": []
    },
    {
      "cell_type": "markdown",
      "metadata": {
        "id": "azqLHmODkb8L"
      },
      "source": [
        "# 0) First lets import torch and check if our workstation has cuda enabled GPU available. "
      ]
    },
    {
      "cell_type": "code",
      "execution_count": null,
      "metadata": {
        "id": "yqrSf6hPkb8L",
        "outputId": "7b4200fb-b7da-41c8-f23e-ae3cb52df282",
        "colab": {
          "base_uri": "https://localhost:8080/"
        }
      },
      "outputs": [
        {
          "output_type": "execute_result",
          "data": {
            "text/plain": [
              "device(type='cuda')"
            ]
          },
          "metadata": {},
          "execution_count": 4
        }
      ],
      "source": [
        "import torch as torch # import the pytorch library\n",
        "\n",
        "# if a cuda enabled GPU device is available get a handle(?) to it, otherwise create a handle to the cpu\n",
        "device = torch.device('cuda' if torch.cuda.is_available() else 'cpu') \n",
        "device "
      ]
    },
    {
      "cell_type": "markdown",
      "metadata": {
        "id": "bWMXq0E_kb8M"
      },
      "source": [
        "# 1) Getting and Loading Data"
      ]
    },
    {
      "cell_type": "markdown",
      "source": [
        "## 1.1) Download MNIST data from the torchvision library. Torchvision needs to be imported separatly. "
      ],
      "metadata": {
        "id": "bAwmgnsz1-sx"
      }
    },
    {
      "cell_type": "code",
      "execution_count": null,
      "metadata": {
        "id": "LCy-srNAkb8N"
      },
      "outputs": [],
      "source": [
        "## Loading data\n",
        "from torchvision import datasets\n",
        "from torchvision.transforms import ToTensor\n",
        "\n",
        "# pytorch has several datasets you can download, including the MNIST hand writen digit\n",
        "train_data = datasets.MNIST(\n",
        "    root = 'data',\n",
        "    train = True,                         \n",
        "    transform = ToTensor(), \n",
        "    download = True          \n",
        ")"
      ]
    },
    {
      "cell_type": "markdown",
      "metadata": {
        "id": "1Dll9Mlzkb8O"
      },
      "source": [
        "Above we have downloaded the training set. Fill out the code below to to download the test_set."
      ]
    },
    {
      "cell_type": "code",
      "execution_count": null,
      "metadata": {
        "id": "OOUILD-qkb8O"
      },
      "outputs": [],
      "source": [
        "test_data = datasets.MNIST(\n",
        "    root = 'data', #! cut\n",
        "    train = False, #! cut\n",
        "    transform = ToTensor(), #! cut\n",
        "    download = True #! cut\n",
        ")"
      ]
    },
    {
      "cell_type": "markdown",
      "metadata": {
        "id": "q6E9Tp75kb8O"
      },
      "source": [
        "## 1.2) Lets have a look at the dataset we've just downloaded\n",
        "\n",
        "The MNIST data is composed of images and corresponding labels.\n",
        "To plot an example of the data we will use matplotlib."
      ]
    },
    {
      "cell_type": "code",
      "execution_count": null,
      "metadata": {
        "id": "LHyIu5q4kb8P",
        "outputId": "b47689d4-8919-476e-ce1e-18b5676c2920",
        "colab": {
          "base_uri": "https://localhost:8080/"
        }
      },
      "outputs": [
        {
          "output_type": "stream",
          "name": "stdout",
          "text": [
            "Dataset MNIST\n",
            "    Number of datapoints: 60000\n",
            "    Root location: data\n",
            "    Split: Train\n",
            "    StandardTransform\n",
            "Transform: ToTensor()\n",
            "Dataset MNIST\n",
            "    Number of datapoints: 10000\n",
            "    Root location: data\n",
            "    Split: Test\n",
            "    StandardTransform\n",
            "Transform: ToTensor()\n",
            "torch.Size([1, 28, 28])\n",
            "5\n"
          ]
        }
      ],
      "source": [
        "# print your \n",
        "print(train_data) \n",
        "print(test_data)\n",
        "\n",
        "# call we example of an image and its label. What are the dimensions of the image and what is the label for this exampel?\n",
        "img, label = train_data[0] #! cut\n",
        "print(img.shape) #! cut\n",
        "print(label) #! cut\n"
      ]
    },
    {
      "cell_type": "code",
      "execution_count": null,
      "metadata": {
        "id": "j_1MeT30kb8Q",
        "outputId": "9716b72f-10b2-4ddf-cdc9-505222487095",
        "colab": {
          "base_uri": "https://localhost:8080/",
          "height": 290
        }
      },
      "outputs": [
        {
          "output_type": "display_data",
          "data": {
            "text/plain": [
              "<Figure size 300x300 with 1 Axes>"
            ],
            "image/png": "[encoded data removed]"
          },
          "metadata": {}
        }
      ],
      "source": [
        "# plot the example image \n",
        "figure = plt.figure(figsize=(3, 3))\n",
        "plt.imshow(img.squeeze(), cmap=\"gray\") #! cut\n",
        "plt.title(label)\n",
        "plt.axis(\"off\");"
      ]
    },
    {
      "cell_type": "markdown",
      "metadata": {
        "id": "qv3ZB2bmkb8S"
      },
      "source": [
        "## 1.3) Loading your own data\n",
        "\n",
        "Above we downloaded an existing dataset from torchvision. In many cases you will want to import your own data from .mat, .npy and .npz files. Below is an example of how that might work."
      ]
    },
    {
      "cell_type": "code",
      "execution_count": null,
      "metadata": {
        "id": "Gysmw8ZUkb8S"
      },
      "outputs": [],
      "source": [
        "## save MNIST data as numpy arrays\n",
        "\n",
        "# imgs = train_data.data.detach().numpy()\n",
        "# labels = train_data.targets.detach().numpy()\n",
        "# np.savez('MNIST_train.npz',imgs=imgs,labels=labels)\n",
        "\n",
        "# imgs = test_data.data.detach().numpy()\n",
        "# labels = test_data.targets.detach().numpy()\n",
        "# np.savez('MNIST_test.npz',imgs=imgs,labels=labels)\n"
      ]
    },
    {
      "cell_type": "code",
      "execution_count": null,
      "metadata": {
        "id": "cwDhLnrYkb8T"
      },
      "outputs": [],
      "source": [
        "# Loading from disk\n",
        "data = np.load('MNIST_train.npz') # load data from .npz file\n",
        "labels=data['labels']\n",
        "imgs=data['imgs'] \n",
        "imgs=torch.from_numpy(imgs) # convert numpy array to torch tensor\n",
        "imgs=imgs.to(torch.float32) # specify dtype as float32 (dtype must match the model dtype whos default is usually float32)\n",
        "train_data = torch.utils.data.TensorDataset(imgs,torch.from_numpy(labels))\n",
        "\n",
        "# same thing for the test set\n",
        "data = np.load('MNIST_test.npz')\n",
        "imgs=torch.from_numpy(data['imgs']).to(torch.float32)\n",
        "labels=data['labels']\n",
        "test_data = torch.utils.data.TensorDataset(imgs,torch.from_numpy(labels))"
      ]
    },
    {
      "cell_type": "markdown",
      "metadata": {
        "id": "PsP9gsQDkb8T"
      },
      "source": [
        "## 1.4) Create a DataLoader\n",
        "\n",
        "DataLoaders wrap an iterable around a DataSet class. This is an easy way of sampling from the dataset in an efficeint way. This is also where we can specifiy the batchsize, as well as introduce data transforms that can be applied each time we sample from the data.\n",
        "\n",
        "-> batch size: The size of your data sample used for each optimization step. This is a hyperparameter, e.i. a variable you can optimize to improve good model performance quickly.\n",
        "\n",
        "-> transfomrs: We might need to rescale our images. Or we would like to augment our training data, e.g. by flipping the images horizontally or introducing noise."
      ]
    },
    {
      "cell_type": "code",
      "execution_count": null,
      "metadata": {
        "id": "8w2K-xYikb8T"
      },
      "outputs": [],
      "source": [
        "batchsize = 64 # This is usually a multiple of 2 between 16 and 512 and will depend on your CPU/GPU size\n",
        "\n",
        "from torch.utils.data import DataLoader\n",
        "loaders = { # Library of dataloader functions\n",
        "    'train' : torch.utils.data.DataLoader(train_data, \n",
        "                                          batch_size=batchsize, \n",
        "                                          shuffle=True, # We usually want to randomly sample a new subset of our data\n",
        "                                          num_workers=1), # This variable allows us to multithread dataloading, \n",
        "                                                          # which is usefull if we have a dataset which does not fit onto the RAM\n",
        "    \n",
        "    'test'  : torch.utils.data.DataLoader(test_data, \n",
        "                                          batch_size=batchsize, \n",
        "                                          shuffle=True, \n",
        "                                          num_workers=1),\n",
        "}"
      ]
    },
    {
      "cell_type": "markdown",
      "metadata": {
        "id": "CSCZYTWokb8U"
      },
      "source": [
        "Lets call the dataloader to call one batch and plot the examples in that batch. We have writen a plotting function that plots a few exampels with labels in one figure for you."
      ]
    },
    {
      "cell_type": "code",
      "execution_count": null,
      "metadata": {
        "id": "_dVTLO1xkb8U",
        "outputId": "205884be-9364-4117-ca5f-1c8d7b005554",
        "colab": {
          "base_uri": "https://localhost:8080/",
          "height": 675
        }
      },
      "outputs": [
        {
          "output_type": "display_data",
          "data": {
            "text/plain": [
              "<Figure size 800x800 with 25 Axes>"
            ],
            "image/png": "[encoded data removed]"
          },
          "metadata": {}
        }
      ],
      "source": [
        "training_data_iterable = iter(loaders['train']) # create an iterable \n",
        "img, label=next(training_data_iterable) # calls the first randomly sampled batch of examples\n",
        "plot_examples(img, label, []) # plots a few examples"
      ]
    },
    {
      "cell_type": "markdown",
      "metadata": {
        "id": "j7xeIVolkb8V"
      },
      "source": [
        "# 2) Create or Call a Model\n",
        "This is the fun bit! We have writen up a couple of models in this tutorial for you and for now we will just use one of these, but feel free to go back and modify one of them or make another one from scratch. \n",
        "\n",
        "In this digit classification exercize, the major constraints of your model are the size of the input layer, which needs to match your input data (c \\* h \\* w => 1 \\* 28 \\* 28), and the size of your output layer, which needs to match the number of possible classes/lables (0-9 => 10). \n",
        "\n",
        "#### Feed Forward Models\n",
        "\n",
        "- LFF: No hidden layers. This is a linear model because it cannot learn nonlinear relationships.\n",
        "\n",
        "- DFF_tiny: This model has 10 hidden units\n",
        "\n",
        "- DFF: Still a fairly shallow model (not many hidden layers), but with more hidden units\n",
        "\n",
        "#### Convolutional Models (not implemented yet)\n",
        "\n",
        "- ConvNet1: The first two layers are convolutional layers, which is then followed by one fully connected feed forward layer"
      ]
    },
    {
      "cell_type": "markdown",
      "metadata": {
        "id": "3U2bAF_kkb8V"
      },
      "source": [
        "We will use the DFF model for our example"
      ]
    },
    {
      "cell_type": "code",
      "execution_count": null,
      "metadata": {
        "id": "gLHuzVWtkb8V",
        "outputId": "43472fd8-4c59-412f-87f5-7b921b6e2e2c",
        "colab": {
          "base_uri": "https://localhost:8080/"
        }
      },
      "outputs": [
        {
          "output_type": "stream",
          "name": "stdout",
          "text": [
            "----------------------------------------------------------------\n",
            "        Layer (type)               Output Shape         Param #\n",
            "================================================================\n",
            "            Linear-1                  [-1, 196]         153,860\n",
            "            Linear-2                   [-1, 49]           9,653\n",
            "            Linear-3                   [-1, 10]             500\n",
            "================================================================\n",
            "Total params: 164,013\n",
            "Trainable params: 164,013\n",
            "Non-trainable params: 0\n",
            "----------------------------------------------------------------\n",
            "Input size (MB): 0.00\n",
            "Forward/backward pass size (MB): 0.00\n",
            "Params size (MB): 0.63\n",
            "Estimated Total Size (MB): 0.63\n",
            "----------------------------------------------------------------\n"
          ]
        }
      ],
      "source": [
        "from torchsummary import summary \n",
        "from Models import DFF as model    # try other models \n",
        "from importlib import reload  \n",
        "# reload(model)    # This reloads the current DFF model, even if we already loaded an older version. \n",
        "\n",
        "net = model().to(device) # Call an instance of the model\n",
        "\n",
        "summary(net, (1,1,28,28)) # this gives us a convenient way of quickly looking at the structure and size of our model. \n",
        "\n",
        "# We will want to cellect the model performance as we train it. So let's initiate this list here\n",
        "loss_train = [] # loss collector\n",
        "loss_test = []"
      ]
    },
    {
      "cell_type": "markdown",
      "metadata": {
        "id": "NQcHSqs5kb8W"
      },
      "source": [
        "### 2.1) Visualization\n",
        "It is often usefull to visualize our models in the form of flow charts, especially when they get large and complicated. There are several tools you can use. Try using the [Netron online app](https://netron.app). You will need to generate a .onnx file to do this by running the cell below. Then right click on the generated file in the sidebar to download. Drag-and-drop the .onnx file into the web app."
      ]
    },
    {
      "cell_type": "code",
      "execution_count": null,
      "metadata": {
        "id": "aSGysA_Xkb8W",
        "colab": {
          "base_uri": "https://localhost:8080/",
          "height": 551
        },
        "outputId": "ef6f403b-7adf-420f-92c2-bff31a333726"
      },
      "outputs": [
        {
          "output_type": "stream",
          "name": "stdout",
          "text": [
            "============= Diagnostic Run torch.onnx.export version 2.0.1+cu118 =============\n",
            "verbose: False, log level: Level.ERROR\n",
            "======================= 0 NONE 0 NOTE 0 WARNING 0 ERROR ========================\n",
            "\n"
          ]
        },
        {
          "output_type": "error",
          "ename": "OnnxExporterError",
          "evalue": "ignored",
          "traceback": [
            "\u001b[0;31m---------------------------------------------------------------------------\u001b[0m",
            "\u001b[0;31mModuleNotFoundError\u001b[0m                       Traceback (most recent call last)",
            "\u001b[0;32m/usr/local/lib/python3.10/dist-packages/torch/onnx/_internal/onnx_proto_utils.py\u001b[0m in \u001b[0;36m_add_onnxscript_fn\u001b[0;34m(model_bytes, custom_opsets)\u001b[0m\n\u001b[1;32m    218\u001b[0m     \u001b[0;32mtry\u001b[0m\u001b[0;34m:\u001b[0m\u001b[0;34m\u001b[0m\u001b[0;34m\u001b[0m\u001b[0m\n\u001b[0;32m--> 219\u001b[0;31m         \u001b[0;32mimport\u001b[0m \u001b[0monnx\u001b[0m\u001b[0;34m\u001b[0m\u001b[0;34m\u001b[0m\u001b[0m\n\u001b[0m\u001b[1;32m    220\u001b[0m     \u001b[0;32mexcept\u001b[0m \u001b[0mImportError\u001b[0m \u001b[0;32mas\u001b[0m \u001b[0me\u001b[0m\u001b[0;34m:\u001b[0m\u001b[0;34m\u001b[0m\u001b[0;34m\u001b[0m\u001b[0m\n",
            "\u001b[0;31mModuleNotFoundError\u001b[0m: No module named 'onnx'",
            "\nThe above exception was the direct cause of the following exception:\n",
            "\u001b[0;31mOnnxExporterError\u001b[0m                         Traceback (most recent call last)",
            "\u001b[0;32m<ipython-input-16-70a76d9a6d7a>\u001b[0m in \u001b[0;36m<cell line: 4>\u001b[0;34m()\u001b[0m\n\u001b[1;32m      2\u001b[0m \u001b[0;34m\u001b[0m\u001b[0m\n\u001b[1;32m      3\u001b[0m \u001b[0mimg\u001b[0m\u001b[0;34m,\u001b[0m \u001b[0mlabel\u001b[0m \u001b[0;34m=\u001b[0m \u001b[0mnext\u001b[0m\u001b[0;34m(\u001b[0m\u001b[0miter\u001b[0m\u001b[0;34m(\u001b[0m\u001b[0mloaders\u001b[0m\u001b[0;34m[\u001b[0m\u001b[0;34m'train'\u001b[0m\u001b[0;34m]\u001b[0m\u001b[0;34m)\u001b[0m\u001b[0;34m)\u001b[0m \u001b[0;31m# get a batch\u001b[0m\u001b[0;34m\u001b[0m\u001b[0;34m\u001b[0m\u001b[0m\n\u001b[0;32m----> 4\u001b[0;31m torch.onnx.export(net, img.to(device), 'MNIST_DFF.onnx', export_params=True, input_names=['image'], output_names=['label'],\n\u001b[0m\u001b[1;32m      5\u001b[0m                   dynamic_axes={'image' : {0 : 'batch_size'},'label' : {0 : 'batch_size'}}) \n",
            "\u001b[0;32m/usr/local/lib/python3.10/dist-packages/torch/onnx/utils.py\u001b[0m in \u001b[0;36mexport\u001b[0;34m(model, args, f, export_params, verbose, training, input_names, output_names, operator_export_type, opset_version, do_constant_folding, dynamic_axes, keep_initializers_as_inputs, custom_opsets, export_modules_as_functions)\u001b[0m\n\u001b[1;32m    504\u001b[0m     \"\"\"\n\u001b[1;32m    505\u001b[0m \u001b[0;34m\u001b[0m\u001b[0m\n\u001b[0;32m--> 506\u001b[0;31m     _export(\n\u001b[0m\u001b[1;32m    507\u001b[0m         \u001b[0mmodel\u001b[0m\u001b[0;34m,\u001b[0m\u001b[0;34m\u001b[0m\u001b[0;34m\u001b[0m\u001b[0m\n\u001b[1;32m    508\u001b[0m         \u001b[0margs\u001b[0m\u001b[0;34m,\u001b[0m\u001b[0;34m\u001b[0m\u001b[0;34m\u001b[0m\u001b[0m\n",
            "\u001b[0;32m/usr/local/lib/python3.10/dist-packages/torch/onnx/utils.py\u001b[0m in \u001b[0;36m_export\u001b[0;34m(model, args, f, export_params, verbose, training, input_names, output_names, operator_export_type, export_type, opset_version, do_constant_folding, dynamic_axes, keep_initializers_as_inputs, fixed_batch_size, custom_opsets, add_node_names, onnx_shape_inference, export_modules_as_functions)\u001b[0m\n\u001b[1;32m   1618\u001b[0m                 )\n\u001b[1;32m   1619\u001b[0m             \u001b[0;31m# insert function_proto into model_proto.\u001b[0m\u001b[0;34m\u001b[0m\u001b[0;34m\u001b[0m\u001b[0m\n\u001b[0;32m-> 1620\u001b[0;31m             proto = onnx_proto_utils._add_onnxscript_fn(\n\u001b[0m\u001b[1;32m   1621\u001b[0m                 \u001b[0mproto\u001b[0m\u001b[0;34m,\u001b[0m\u001b[0;34m\u001b[0m\u001b[0;34m\u001b[0m\u001b[0m\n\u001b[1;32m   1622\u001b[0m                 \u001b[0mcustom_opsets\u001b[0m\u001b[0;34m,\u001b[0m\u001b[0;34m\u001b[0m\u001b[0;34m\u001b[0m\u001b[0m\n",
            "\u001b[0;32m/usr/local/lib/python3.10/dist-packages/torch/onnx/_internal/onnx_proto_utils.py\u001b[0m in \u001b[0;36m_add_onnxscript_fn\u001b[0;34m(model_bytes, custom_opsets)\u001b[0m\n\u001b[1;32m    219\u001b[0m         \u001b[0;32mimport\u001b[0m \u001b[0monnx\u001b[0m\u001b[0;34m\u001b[0m\u001b[0;34m\u001b[0m\u001b[0m\n\u001b[1;32m    220\u001b[0m     \u001b[0;32mexcept\u001b[0m \u001b[0mImportError\u001b[0m \u001b[0;32mas\u001b[0m \u001b[0me\u001b[0m\u001b[0;34m:\u001b[0m\u001b[0;34m\u001b[0m\u001b[0;34m\u001b[0m\u001b[0m\n\u001b[0;32m--> 221\u001b[0;31m         \u001b[0;32mraise\u001b[0m \u001b[0merrors\u001b[0m\u001b[0;34m.\u001b[0m\u001b[0mOnnxExporterError\u001b[0m\u001b[0;34m(\u001b[0m\u001b[0;34m\"Module onnx is not installed!\"\u001b[0m\u001b[0;34m)\u001b[0m \u001b[0;32mfrom\u001b[0m \u001b[0me\u001b[0m\u001b[0;34m\u001b[0m\u001b[0;34m\u001b[0m\u001b[0m\n\u001b[0m\u001b[1;32m    222\u001b[0m \u001b[0;34m\u001b[0m\u001b[0m\n\u001b[1;32m    223\u001b[0m     \u001b[0;31m# For > 2GB model, onnx.load_fromstring would fail. However, because\u001b[0m\u001b[0;34m\u001b[0m\u001b[0;34m\u001b[0m\u001b[0m\n",
            "\u001b[0;31mOnnxExporterError\u001b[0m: Module onnx is not installed!"
          ]
        }
      ],
      "source": [
        "import torch.onnx\n",
        "\n",
        "img, label = next(iter(loaders['train'])) # get a batch\n",
        "torch.onnx.export(net, img.to(device), 'MNIST_DFF.onnx', export_params=True, input_names=['image'], output_names=['label'],\n",
        "                  dynamic_axes={'image' : {0 : 'batch_size'},'label' : {0 : 'batch_size'}}) "
      ]
    },
    {
      "cell_type": "markdown",
      "metadata": {
        "id": "2s-DjWnwkb8W"
      },
      "source": [
        "## 3) Helper functions for training\n",
        "We will want to create a couple helper functions to train and evaluate our model. \n",
        "\n",
        "-> loss function: This calculates the difference between the predicted labels and the true labels across your batch. There are many loss functions, but usually there is a standard loss function for the problem you are working on. For Classification, Cross Entropy is commonly used. This loss is then used to caculate the gradient across the model, which in turn is used to update the weights and biases in the model in a process called gradient decent.\n",
        "\n",
        "-> gradient calculater: just kidding! Pytorch takes care of this for you. \n",
        "\n",
        "-> optimizer: After we calculate the loss, we need to apply gradient decent. The aim is to decrease the loss. However, there are a number of ways this can be applied. We therefore need to choose a optimizer function.\n",
        "\n",
        "-> accuracy: We usually also want to know the proportion of correctly identified examples. This is not usefull for gradient decent.\n",
        "\n",
        "-> Wrapper: It is helpfull to write a function, which applies the above steps in the correct order and only when appropriate (e.g. you should disable optimization when applying your model to test data).  "
      ]
    },
    {
      "cell_type": "code",
      "execution_count": null,
      "metadata": {
        "id": "EcJAz8IXkb8X"
      },
      "outputs": [],
      "source": [
        "## Loss function\n",
        "from torch import nn\n",
        "\n",
        "loss = nn.CrossEntropyLoss()\n",
        "# loss = nn.MSELoss() # Alternative: would need to convert label to on-hot-vector -> nn.functional.one_hot(label,num_classes=10)\n"
      ]
    },
    {
      "cell_type": "code",
      "execution_count": null,
      "metadata": {
        "id": "fQk81Jx8kb8X"
      },
      "outputs": [],
      "source": [
        "## accuracy\n",
        "def accuracy_calc(labels,labels_pred_int): \n",
        "    # labels: true labels (in integer from, not a one-hot-vector)\n",
        "    # labels_pred_int: predicted labels (in integer from, not a vector of probabilities)\n",
        "    labels = labels.cpu().detach().numpy() # to use numpy we need to move the tensor of labels off the GPU and convert it to a numpy array\n",
        "    labels_pred_int = labels_pred_int.cpu().detach().numpy()\n",
        "    return 100*(labels_pred_int == labels).sum().item() / np.shape(labels)[0] # Here, we calculate the percent correctly predicted labels"
      ]
    },
    {
      "cell_type": "markdown",
      "metadata": {
        "id": "-Obxrhmekb8X"
      },
      "source": [
        "There are a number of different optimization algorithms and components there of. \n",
        "\n",
        "-> Batch gradient decent: caculate the gradient across the entire training data set and then perform one optimization step.\n",
        "\n",
        "-> Stocastic gradient decent (SGD): caucluate the gradient and apply an optimization step for each training sample independently.\n",
        "\n",
        "-> Mini-batch gradient decent: for each batch (e.g. 32 training examples) caculate the gradient and apply one step of optimization. Usually preferable of the Batch gradient decent or true SGD.\n",
        "\n",
        "-> Momentum: uses a rolling average of the gradient, so that noise across batches is minimized. This smooths the learning \"trajectory\".\n",
        "\n",
        "-> Adaptive learning rate: when we are far away from the global optimum a larger learning rate is advantages as it speeds up progress, but as we approach the global minimum small steps are better. \n",
        "\n",
        "Note: confusingly the pytorch function torch.optim.SGD does not perform Stocastic gradient decent strictly speaking. It will optimize based on the accumulated gradient, of which the step size is defined by us. You will see what this means below. "
      ]
    },
    {
      "cell_type": "code",
      "execution_count": null,
      "metadata": {
        "id": "2TU4Jrihkb8Y"
      },
      "outputs": [],
      "source": [
        "## optimizer\n",
        "from torch import optim\n",
        "\n",
        "# We will use \n",
        "lr = 0.01 \n",
        "momentum = 0 # try 0.5\n",
        "optimizer = optim.SGD(net.parameters(),momentum=momentum,lr=lr) # stocastic gradient decent\n",
        "# optimizer = optim.Adam(net.parameters(),weight_decay=0,lr=lr) # more advanced alternative\n"
      ]
    },
    {
      "cell_type": "markdown",
      "metadata": {
        "id": "m-hZwerGkb8Y"
      },
      "source": [
        "Let's wrap things up!"
      ]
    },
    {
      "cell_type": "code",
      "execution_count": null,
      "metadata": {
        "id": "udTzvDR3kb8Y"
      },
      "outputs": [],
      "source": [
        "## Wrapper function\n",
        "def run_model(img,labels,model,optimizer,Loss,train=False):\n",
        "    if train: # only important in specific instances (e.g. if your model has dropout layers or variational layers)\n",
        "        model.train()\n",
        "    else:\n",
        "        model.eval()\n",
        "    \n",
        "    optimizer.zero_grad() # othewise gradients will accumulate. \n",
        "\n",
        "    labels_pred = model(img)  # run model and get label predictions\n",
        "    labels_pred_int = labels_pred.argmax(axis=1) # our model spits out a probability for each category to be true. This line gets the index of max porbablity for each example.\n",
        "    loss = Loss(labels_pred,labels) # calcualte the loss (only uses one channel)\n",
        "    accuracy = accuracy_calc(labels,labels_pred_int) # caculate the % correct predictions\n",
        "\n",
        "    # we only want this next bit to be true when specified, i.e. when we are training the model\n",
        "    if train:\n",
        "        # backprob and update\n",
        "        loss.backward() # calculates the gradient based on the current loss\n",
        "        optimizer.step() # applies one optimization step\n",
        "    \n",
        "    return loss, labels_pred, labels_pred_int, accuracy\n",
        "\n"
      ]
    },
    {
      "cell_type": "markdown",
      "metadata": {
        "id": "KnVAUysDkb8Y"
      },
      "source": [
        "It's a good idea to check things are working before training your model. Get a training example batch, run it through the model using the wrapper function above and print the outs."
      ]
    },
    {
      "cell_type": "code",
      "execution_count": null,
      "metadata": {
        "id": "c84uDW5Gkb8Z",
        "outputId": "ca488cca-83a5-457a-a586-f102edcbfc9c",
        "colab": {
          "base_uri": "https://localhost:8080/"
        }
      },
      "outputs": [
        {
          "output_type": "stream",
          "name": "stdout",
          "text": [
            "label:            [0 9 7 7 0 8 0 9 2 5 2 8 9 0 8 3 1 1 2 4 3 2 7 3 9 9 4 3 6 5 9 1 8 0 7 2 7\n",
            " 0 1 4 8 1 1 2 7 8 3 0 6 4 1 1 2 6 8 6 9 5 1 9 8 0 1 3]\n",
            "label prediction: [7 7 7 7 7 7 7 7 7 7 7 7 7 7 7 7 7 7 7 7 7 8 7 7 7 7 7 7 7 7 7 7 7 7 8 7 7\n",
            " 7 7 7 7 7 7 7 7 7 7 7 7 7 7 7 8 7 7 7 7 7 7 7 7 7 7 7]\n",
            "label weights first example: [ 9.  9. 11.  9. 10.  9. 10. 11. 11.  9.]\n",
            "loss: 2.303587\n",
            "accuracy: 7.8125%\n"
          ]
        }
      ],
      "source": [
        "# check its all working\n",
        "img,label=next(iter(loaders['train'])) #! cut # get a batch\n",
        "img = img.to(device) #! cut\n",
        "label = label.to(device) #! cut \n",
        "batch_loss, label_pred, label_pred_int, accuracy = run_model(img,label,net,optimizer,loss) #! cut\n",
        "\n",
        "label=label.cpu().detach().numpy()\n",
        "batch_loss=batch_loss.cpu().detach().numpy()\n",
        "label_pred=label_pred.cpu().detach().numpy()\n",
        "label_pred_int=label_pred_int.cpu().detach().numpy()\n",
        "\n",
        "print('label:            ' + np.array2string(label))\n",
        "print('label prediction: ' + np.array2string(label_pred_int))\n",
        "print('label weights first example: ' + np.array2string(label_pred[0]*100,precision=0,suppress_small=True))\n",
        "print('loss: ' + np.array2string(batch_loss))\n",
        "print('accuracy: ' + str(accuracy) + '%')\n"
      ]
    },
    {
      "cell_type": "markdown",
      "metadata": {
        "id": "JW0BuCrDkb8Z"
      },
      "source": [
        "## 4) Training time\n",
        "\n",
        "It's finnaly time to train our model. We will do this using two for loops. The nested loop will sample batches of data and optimize the model on each itteration untill all examples in the training set have been used once. The second loop will repeate these passes over the training set a given number of times (epochs) as well as caculate and plot the loss for the training and test set at the end of each epoch.\n",
        "\n",
        "But first lets caculate the training and test loss before any optimization has occured."
      ]
    },
    {
      "cell_type": "code",
      "execution_count": null,
      "metadata": {
        "id": "5QOqvb9Pkb8Z"
      },
      "outputs": [],
      "source": [
        "if len(loss_train)<1: # if no training has happened yet save initial loss value\n",
        "    img,label=next(iter(loaders['train'])) # get one batch\n",
        "    img = img.to(device)\n",
        "    label = label.to(device)\n",
        "    batch_loss, _, _, _ = run_model(img,label,net,optimizer,loss)\n",
        "    loss_train.append(batch_loss.cpu().detach().numpy())\n",
        "\n",
        "if len(loss_test)<1: # if no training has happened yet save initial loss value\n",
        "    img,label=next(iter(loaders['test'])) # get one batch\n",
        "    img = img.to(device)\n",
        "    label = label.to(device)\n",
        "    batch_loss, _, _, _ = run_model(img,label,net,optimizer,loss)\n",
        "    loss_test.append(batch_loss.cpu().detach().numpy())"
      ]
    },
    {
      "cell_type": "markdown",
      "metadata": {
        "id": "EnjGM8K8kb8a"
      },
      "source": [
        "We will use tqdm (giving us a progress bar) to keep track of the progress through the training set."
      ]
    },
    {
      "cell_type": "code",
      "execution_count": null,
      "metadata": {
        "id": "2jnEHHIgkb8a",
        "outputId": "ab6005c3-5506-406a-e80e-4fd218f99742",
        "colab": {
          "base_uri": "https://localhost:8080/",
          "height": 1000
        }
      },
      "outputs": [
        {
          "output_type": "display_data",
          "data": {
            "text/plain": [
              "<Figure size 640x480 with 1 Axes>"
            ],
            "image/png": "[encoded data removed]"
          },
          "metadata": {}
        },
        {
          "output_type": "stream",
          "name": "stderr",
          "text": [
            " 56%|█████▋    | 528/938 [00:07<00:05, 69.38it/s]\n"
          ]
        },
        {
          "output_type": "error",
          "ename": "KeyboardInterrupt",
          "evalue": "ignored",
          "traceback": [
            "\u001b[0;31m---------------------------------------------------------------------------\u001b[0m",
            "\u001b[0;31mKeyboardInterrupt\u001b[0m                         Traceback (most recent call last)",
            "\u001b[0;32m<ipython-input-28-dfde50cf5303>\u001b[0m in \u001b[0;36m<cell line: 8>\u001b[0;34m()\u001b[0m\n\u001b[1;32m      8\u001b[0m \u001b[0;32mfor\u001b[0m \u001b[0mep_n\u001b[0m \u001b[0;32min\u001b[0m \u001b[0mrange\u001b[0m\u001b[0;34m(\u001b[0m\u001b[0mepochs\u001b[0m\u001b[0;34m)\u001b[0m\u001b[0;34m:\u001b[0m\u001b[0;34m\u001b[0m\u001b[0;34m\u001b[0m\u001b[0m\n\u001b[1;32m      9\u001b[0m \u001b[0;34m\u001b[0m\u001b[0m\n\u001b[0;32m---> 10\u001b[0;31m     \u001b[0;32mfor\u001b[0m \u001b[0mimg\u001b[0m\u001b[0;34m,\u001b[0m\u001b[0mlabel\u001b[0m \u001b[0;32min\u001b[0m \u001b[0mtqdm\u001b[0m\u001b[0;34m(\u001b[0m\u001b[0mloaders\u001b[0m\u001b[0;34m[\u001b[0m\u001b[0;34m'train'\u001b[0m\u001b[0;34m]\u001b[0m\u001b[0;34m)\u001b[0m\u001b[0;34m:\u001b[0m\u001b[0;34m\u001b[0m\u001b[0;34m\u001b[0m\u001b[0m\n\u001b[0m\u001b[1;32m     11\u001b[0m         \u001b[0mimg\u001b[0m \u001b[0;34m=\u001b[0m \u001b[0mimg\u001b[0m\u001b[0;34m.\u001b[0m\u001b[0mto\u001b[0m\u001b[0;34m(\u001b[0m\u001b[0mdevice\u001b[0m\u001b[0;34m)\u001b[0m\u001b[0;34m\u001b[0m\u001b[0;34m\u001b[0m\u001b[0m\n\u001b[1;32m     12\u001b[0m         \u001b[0mlabel\u001b[0m \u001b[0;34m=\u001b[0m \u001b[0mlabel\u001b[0m\u001b[0;34m.\u001b[0m\u001b[0mto\u001b[0m\u001b[0;34m(\u001b[0m\u001b[0mdevice\u001b[0m\u001b[0;34m)\u001b[0m\u001b[0;34m\u001b[0m\u001b[0;34m\u001b[0m\u001b[0m\n",
            "\u001b[0;32m/usr/local/lib/python3.10/dist-packages/tqdm/std.py\u001b[0m in \u001b[0;36m__iter__\u001b[0;34m(self)\u001b[0m\n\u001b[1;32m   1176\u001b[0m \u001b[0;34m\u001b[0m\u001b[0m\n\u001b[1;32m   1177\u001b[0m         \u001b[0;32mtry\u001b[0m\u001b[0;34m:\u001b[0m\u001b[0;34m\u001b[0m\u001b[0;34m\u001b[0m\u001b[0m\n\u001b[0;32m-> 1178\u001b[0;31m             \u001b[0;32mfor\u001b[0m \u001b[0mobj\u001b[0m \u001b[0;32min\u001b[0m \u001b[0miterable\u001b[0m\u001b[0;34m:\u001b[0m\u001b[0;34m\u001b[0m\u001b[0;34m\u001b[0m\u001b[0m\n\u001b[0m\u001b[1;32m   1179\u001b[0m                 \u001b[0;32myield\u001b[0m \u001b[0mobj\u001b[0m\u001b[0;34m\u001b[0m\u001b[0;34m\u001b[0m\u001b[0m\n\u001b[1;32m   1180\u001b[0m                 \u001b[0;31m# Update and possibly print the progressbar.\u001b[0m\u001b[0;34m\u001b[0m\u001b[0;34m\u001b[0m\u001b[0m\n",
            "\u001b[0;32m/usr/local/lib/python3.10/dist-packages/torch/utils/data/dataloader.py\u001b[0m in \u001b[0;36m__next__\u001b[0;34m(self)\u001b[0m\n\u001b[1;32m    631\u001b[0m                 \u001b[0;31m# TODO(https://github.com/pytorch/pytorch/issues/76750)\u001b[0m\u001b[0;34m\u001b[0m\u001b[0;34m\u001b[0m\u001b[0m\n\u001b[1;32m    632\u001b[0m                 \u001b[0mself\u001b[0m\u001b[0;34m.\u001b[0m\u001b[0m_reset\u001b[0m\u001b[0;34m(\u001b[0m\u001b[0;34m)\u001b[0m  \u001b[0;31m# type: ignore[call-arg]\u001b[0m\u001b[0;34m\u001b[0m\u001b[0;34m\u001b[0m\u001b[0m\n\u001b[0;32m--> 633\u001b[0;31m             \u001b[0mdata\u001b[0m \u001b[0;34m=\u001b[0m \u001b[0mself\u001b[0m\u001b[0;34m.\u001b[0m\u001b[0m_next_data\u001b[0m\u001b[0;34m(\u001b[0m\u001b[0;34m)\u001b[0m\u001b[0;34m\u001b[0m\u001b[0;34m\u001b[0m\u001b[0m\n\u001b[0m\u001b[1;32m    634\u001b[0m             \u001b[0mself\u001b[0m\u001b[0;34m.\u001b[0m\u001b[0m_num_yielded\u001b[0m \u001b[0;34m+=\u001b[0m \u001b[0;36m1\u001b[0m\u001b[0;34m\u001b[0m\u001b[0;34m\u001b[0m\u001b[0m\n\u001b[1;32m    635\u001b[0m             \u001b[0;32mif\u001b[0m \u001b[0mself\u001b[0m\u001b[0;34m.\u001b[0m\u001b[0m_dataset_kind\u001b[0m \u001b[0;34m==\u001b[0m \u001b[0m_DatasetKind\u001b[0m\u001b[0;34m.\u001b[0m\u001b[0mIterable\u001b[0m \u001b[0;32mand\u001b[0m\u001b[0;31m \u001b[0m\u001b[0;31m\\\u001b[0m\u001b[0;34m\u001b[0m\u001b[0;34m\u001b[0m\u001b[0m\n",
            "\u001b[0;32m/usr/local/lib/python3.10/dist-packages/torch/utils/data/dataloader.py\u001b[0m in \u001b[0;36m_next_data\u001b[0;34m(self)\u001b[0m\n\u001b[1;32m   1326\u001b[0m \u001b[0;34m\u001b[0m\u001b[0m\n\u001b[1;32m   1327\u001b[0m             \u001b[0;32massert\u001b[0m \u001b[0;32mnot\u001b[0m \u001b[0mself\u001b[0m\u001b[0;34m.\u001b[0m\u001b[0m_shutdown\u001b[0m \u001b[0;32mand\u001b[0m \u001b[0mself\u001b[0m\u001b[0;34m.\u001b[0m\u001b[0m_tasks_outstanding\u001b[0m \u001b[0;34m>\u001b[0m \u001b[0;36m0\u001b[0m\u001b[0;34m\u001b[0m\u001b[0;34m\u001b[0m\u001b[0m\n\u001b[0;32m-> 1328\u001b[0;31m             \u001b[0midx\u001b[0m\u001b[0;34m,\u001b[0m \u001b[0mdata\u001b[0m \u001b[0;34m=\u001b[0m \u001b[0mself\u001b[0m\u001b[0;34m.\u001b[0m\u001b[0m_get_data\u001b[0m\u001b[0;34m(\u001b[0m\u001b[0;34m)\u001b[0m\u001b[0;34m\u001b[0m\u001b[0;34m\u001b[0m\u001b[0m\n\u001b[0m\u001b[1;32m   1329\u001b[0m             \u001b[0mself\u001b[0m\u001b[0;34m.\u001b[0m\u001b[0m_tasks_outstanding\u001b[0m \u001b[0;34m-=\u001b[0m \u001b[0;36m1\u001b[0m\u001b[0;34m\u001b[0m\u001b[0;34m\u001b[0m\u001b[0m\n\u001b[1;32m   1330\u001b[0m             \u001b[0;32mif\u001b[0m \u001b[0mself\u001b[0m\u001b[0;34m.\u001b[0m\u001b[0m_dataset_kind\u001b[0m \u001b[0;34m==\u001b[0m \u001b[0m_DatasetKind\u001b[0m\u001b[0;34m.\u001b[0m\u001b[0mIterable\u001b[0m\u001b[0;34m:\u001b[0m\u001b[0;34m\u001b[0m\u001b[0;34m\u001b[0m\u001b[0m\n",
            "\u001b[0;32m/usr/local/lib/python3.10/dist-packages/torch/utils/data/dataloader.py\u001b[0m in \u001b[0;36m_get_data\u001b[0;34m(self)\u001b[0m\n\u001b[1;32m   1292\u001b[0m         \u001b[0;32melse\u001b[0m\u001b[0;34m:\u001b[0m\u001b[0;34m\u001b[0m\u001b[0;34m\u001b[0m\u001b[0m\n\u001b[1;32m   1293\u001b[0m             \u001b[0;32mwhile\u001b[0m \u001b[0;32mTrue\u001b[0m\u001b[0;34m:\u001b[0m\u001b[0;34m\u001b[0m\u001b[0;34m\u001b[0m\u001b[0m\n\u001b[0;32m-> 1294\u001b[0;31m                 \u001b[0msuccess\u001b[0m\u001b[0;34m,\u001b[0m \u001b[0mdata\u001b[0m \u001b[0;34m=\u001b[0m \u001b[0mself\u001b[0m\u001b[0;34m.\u001b[0m\u001b[0m_try_get_data\u001b[0m\u001b[0;34m(\u001b[0m\u001b[0;34m)\u001b[0m\u001b[0;34m\u001b[0m\u001b[0;34m\u001b[0m\u001b[0m\n\u001b[0m\u001b[1;32m   1295\u001b[0m                 \u001b[0;32mif\u001b[0m \u001b[0msuccess\u001b[0m\u001b[0;34m:\u001b[0m\u001b[0;34m\u001b[0m\u001b[0;34m\u001b[0m\u001b[0m\n\u001b[1;32m   1296\u001b[0m                     \u001b[0;32mreturn\u001b[0m \u001b[0mdata\u001b[0m\u001b[0;34m\u001b[0m\u001b[0;34m\u001b[0m\u001b[0m\n",
            "\u001b[0;32m/usr/local/lib/python3.10/dist-packages/torch/utils/data/dataloader.py\u001b[0m in \u001b[0;36m_try_get_data\u001b[0;34m(self, timeout)\u001b[0m\n\u001b[1;32m   1130\u001b[0m         \u001b[0;31m#   (bool: whether successfully get data, any: data if successful else None)\u001b[0m\u001b[0;34m\u001b[0m\u001b[0;34m\u001b[0m\u001b[0m\n\u001b[1;32m   1131\u001b[0m         \u001b[0;32mtry\u001b[0m\u001b[0;34m:\u001b[0m\u001b[0;34m\u001b[0m\u001b[0;34m\u001b[0m\u001b[0m\n\u001b[0;32m-> 1132\u001b[0;31m             \u001b[0mdata\u001b[0m \u001b[0;34m=\u001b[0m \u001b[0mself\u001b[0m\u001b[0;34m.\u001b[0m\u001b[0m_data_queue\u001b[0m\u001b[0;34m.\u001b[0m\u001b[0mget\u001b[0m\u001b[0;34m(\u001b[0m\u001b[0mtimeout\u001b[0m\u001b[0;34m=\u001b[0m\u001b[0mtimeout\u001b[0m\u001b[0;34m)\u001b[0m\u001b[0;34m\u001b[0m\u001b[0;34m\u001b[0m\u001b[0m\n\u001b[0m\u001b[1;32m   1133\u001b[0m             \u001b[0;32mreturn\u001b[0m \u001b[0;34m(\u001b[0m\u001b[0;32mTrue\u001b[0m\u001b[0;34m,\u001b[0m \u001b[0mdata\u001b[0m\u001b[0;34m)\u001b[0m\u001b[0;34m\u001b[0m\u001b[0;34m\u001b[0m\u001b[0m\n\u001b[1;32m   1134\u001b[0m         \u001b[0;32mexcept\u001b[0m \u001b[0mException\u001b[0m \u001b[0;32mas\u001b[0m \u001b[0me\u001b[0m\u001b[0;34m:\u001b[0m\u001b[0;34m\u001b[0m\u001b[0;34m\u001b[0m\u001b[0m\n",
            "\u001b[0;32m/usr/lib/python3.10/multiprocessing/queues.py\u001b[0m in \u001b[0;36mget\u001b[0;34m(self, block, timeout)\u001b[0m\n\u001b[1;32m    120\u001b[0m                 \u001b[0mself\u001b[0m\u001b[0;34m.\u001b[0m\u001b[0m_rlock\u001b[0m\u001b[0;34m.\u001b[0m\u001b[0mrelease\u001b[0m\u001b[0;34m(\u001b[0m\u001b[0;34m)\u001b[0m\u001b[0;34m\u001b[0m\u001b[0;34m\u001b[0m\u001b[0m\n\u001b[1;32m    121\u001b[0m         \u001b[0;31m# unserialize the data after having released the lock\u001b[0m\u001b[0;34m\u001b[0m\u001b[0;34m\u001b[0m\u001b[0m\n\u001b[0;32m--> 122\u001b[0;31m         \u001b[0;32mreturn\u001b[0m \u001b[0m_ForkingPickler\u001b[0m\u001b[0;34m.\u001b[0m\u001b[0mloads\u001b[0m\u001b[0;34m(\u001b[0m\u001b[0mres\u001b[0m\u001b[0;34m)\u001b[0m\u001b[0;34m\u001b[0m\u001b[0;34m\u001b[0m\u001b[0m\n\u001b[0m\u001b[1;32m    123\u001b[0m \u001b[0;34m\u001b[0m\u001b[0m\n\u001b[1;32m    124\u001b[0m     \u001b[0;32mdef\u001b[0m \u001b[0mqsize\u001b[0m\u001b[0;34m(\u001b[0m\u001b[0mself\u001b[0m\u001b[0;34m)\u001b[0m\u001b[0;34m:\u001b[0m\u001b[0;34m\u001b[0m\u001b[0;34m\u001b[0m\u001b[0m\n",
            "\u001b[0;32m/usr/local/lib/python3.10/dist-packages/torch/multiprocessing/reductions.py\u001b[0m in \u001b[0;36mrebuild_storage_fd\u001b[0;34m(cls, df, size)\u001b[0m\n\u001b[1;32m    305\u001b[0m \u001b[0;34m\u001b[0m\u001b[0m\n\u001b[1;32m    306\u001b[0m \u001b[0;32mdef\u001b[0m \u001b[0mrebuild_storage_fd\u001b[0m\u001b[0;34m(\u001b[0m\u001b[0mcls\u001b[0m\u001b[0;34m,\u001b[0m \u001b[0mdf\u001b[0m\u001b[0;34m,\u001b[0m \u001b[0msize\u001b[0m\u001b[0;34m)\u001b[0m\u001b[0;34m:\u001b[0m\u001b[0;34m\u001b[0m\u001b[0;34m\u001b[0m\u001b[0m\n\u001b[0;32m--> 307\u001b[0;31m     \u001b[0mfd\u001b[0m \u001b[0;34m=\u001b[0m \u001b[0mdf\u001b[0m\u001b[0;34m.\u001b[0m\u001b[0mdetach\u001b[0m\u001b[0;34m(\u001b[0m\u001b[0;34m)\u001b[0m\u001b[0;34m\u001b[0m\u001b[0;34m\u001b[0m\u001b[0m\n\u001b[0m\u001b[1;32m    308\u001b[0m     \u001b[0;32mtry\u001b[0m\u001b[0;34m:\u001b[0m\u001b[0;34m\u001b[0m\u001b[0;34m\u001b[0m\u001b[0m\n\u001b[1;32m    309\u001b[0m         \u001b[0mstorage\u001b[0m \u001b[0;34m=\u001b[0m \u001b[0mstorage_from_cache\u001b[0m\u001b[0;34m(\u001b[0m\u001b[0mcls\u001b[0m\u001b[0;34m,\u001b[0m \u001b[0mfd_id\u001b[0m\u001b[0;34m(\u001b[0m\u001b[0mfd\u001b[0m\u001b[0;34m)\u001b[0m\u001b[0;34m)\u001b[0m\u001b[0;34m\u001b[0m\u001b[0;34m\u001b[0m\u001b[0m\n",
            "\u001b[0;32m/usr/lib/python3.10/multiprocessing/resource_sharer.py\u001b[0m in \u001b[0;36mdetach\u001b[0;34m(self)\u001b[0m\n\u001b[1;32m     55\u001b[0m         \u001b[0;32mdef\u001b[0m \u001b[0mdetach\u001b[0m\u001b[0;34m(\u001b[0m\u001b[0mself\u001b[0m\u001b[0;34m)\u001b[0m\u001b[0;34m:\u001b[0m\u001b[0;34m\u001b[0m\u001b[0;34m\u001b[0m\u001b[0m\n\u001b[1;32m     56\u001b[0m             \u001b[0;34m'''Get the fd.  This should only be called once.'''\u001b[0m\u001b[0;34m\u001b[0m\u001b[0;34m\u001b[0m\u001b[0m\n\u001b[0;32m---> 57\u001b[0;31m             \u001b[0;32mwith\u001b[0m \u001b[0m_resource_sharer\u001b[0m\u001b[0;34m.\u001b[0m\u001b[0mget_connection\u001b[0m\u001b[0;34m(\u001b[0m\u001b[0mself\u001b[0m\u001b[0;34m.\u001b[0m\u001b[0m_id\u001b[0m\u001b[0;34m)\u001b[0m \u001b[0;32mas\u001b[0m \u001b[0mconn\u001b[0m\u001b[0;34m:\u001b[0m\u001b[0;34m\u001b[0m\u001b[0;34m\u001b[0m\u001b[0m\n\u001b[0m\u001b[1;32m     58\u001b[0m                 \u001b[0;32mreturn\u001b[0m \u001b[0mreduction\u001b[0m\u001b[0;34m.\u001b[0m\u001b[0mrecv_handle\u001b[0m\u001b[0;34m(\u001b[0m\u001b[0mconn\u001b[0m\u001b[0;34m)\u001b[0m\u001b[0;34m\u001b[0m\u001b[0;34m\u001b[0m\u001b[0m\n\u001b[1;32m     59\u001b[0m \u001b[0;34m\u001b[0m\u001b[0m\n",
            "\u001b[0;32m/usr/lib/python3.10/multiprocessing/resource_sharer.py\u001b[0m in \u001b[0;36mget_connection\u001b[0;34m(ident)\u001b[0m\n\u001b[1;32m     84\u001b[0m         \u001b[0;32mfrom\u001b[0m \u001b[0;34m.\u001b[0m\u001b[0mconnection\u001b[0m \u001b[0;32mimport\u001b[0m \u001b[0mClient\u001b[0m\u001b[0;34m\u001b[0m\u001b[0;34m\u001b[0m\u001b[0m\n\u001b[1;32m     85\u001b[0m         \u001b[0maddress\u001b[0m\u001b[0;34m,\u001b[0m \u001b[0mkey\u001b[0m \u001b[0;34m=\u001b[0m \u001b[0mident\u001b[0m\u001b[0;34m\u001b[0m\u001b[0;34m\u001b[0m\u001b[0m\n\u001b[0;32m---> 86\u001b[0;31m         \u001b[0mc\u001b[0m \u001b[0;34m=\u001b[0m \u001b[0mClient\u001b[0m\u001b[0;34m(\u001b[0m\u001b[0maddress\u001b[0m\u001b[0;34m,\u001b[0m \u001b[0mauthkey\u001b[0m\u001b[0;34m=\u001b[0m\u001b[0mprocess\u001b[0m\u001b[0;34m.\u001b[0m\u001b[0mcurrent_process\u001b[0m\u001b[0;34m(\u001b[0m\u001b[0;34m)\u001b[0m\u001b[0;34m.\u001b[0m\u001b[0mauthkey\u001b[0m\u001b[0;34m)\u001b[0m\u001b[0;34m\u001b[0m\u001b[0;34m\u001b[0m\u001b[0m\n\u001b[0m\u001b[1;32m     87\u001b[0m         \u001b[0mc\u001b[0m\u001b[0;34m.\u001b[0m\u001b[0msend\u001b[0m\u001b[0;34m(\u001b[0m\u001b[0;34m(\u001b[0m\u001b[0mkey\u001b[0m\u001b[0;34m,\u001b[0m \u001b[0mos\u001b[0m\u001b[0;34m.\u001b[0m\u001b[0mgetpid\u001b[0m\u001b[0;34m(\u001b[0m\u001b[0;34m)\u001b[0m\u001b[0;34m)\u001b[0m\u001b[0;34m)\u001b[0m\u001b[0;34m\u001b[0m\u001b[0;34m\u001b[0m\u001b[0m\n\u001b[1;32m     88\u001b[0m         \u001b[0;32mreturn\u001b[0m \u001b[0mc\u001b[0m\u001b[0;34m\u001b[0m\u001b[0;34m\u001b[0m\u001b[0m\n",
            "\u001b[0;32m/usr/lib/python3.10/multiprocessing/connection.py\u001b[0m in \u001b[0;36mClient\u001b[0;34m(address, family, authkey)\u001b[0m\n\u001b[1;32m    506\u001b[0m \u001b[0;34m\u001b[0m\u001b[0m\n\u001b[1;32m    507\u001b[0m     \u001b[0;32mif\u001b[0m \u001b[0mauthkey\u001b[0m \u001b[0;32mis\u001b[0m \u001b[0;32mnot\u001b[0m \u001b[0;32mNone\u001b[0m\u001b[0;34m:\u001b[0m\u001b[0;34m\u001b[0m\u001b[0;34m\u001b[0m\u001b[0m\n\u001b[0;32m--> 508\u001b[0;31m         \u001b[0manswer_challenge\u001b[0m\u001b[0;34m(\u001b[0m\u001b[0mc\u001b[0m\u001b[0;34m,\u001b[0m \u001b[0mauthkey\u001b[0m\u001b[0;34m)\u001b[0m\u001b[0;34m\u001b[0m\u001b[0;34m\u001b[0m\u001b[0m\n\u001b[0m\u001b[1;32m    509\u001b[0m         \u001b[0mdeliver_challenge\u001b[0m\u001b[0;34m(\u001b[0m\u001b[0mc\u001b[0m\u001b[0;34m,\u001b[0m \u001b[0mauthkey\u001b[0m\u001b[0;34m)\u001b[0m\u001b[0;34m\u001b[0m\u001b[0;34m\u001b[0m\u001b[0m\n\u001b[1;32m    510\u001b[0m \u001b[0;34m\u001b[0m\u001b[0m\n",
            "\u001b[0;32m/usr/lib/python3.10/multiprocessing/connection.py\u001b[0m in \u001b[0;36manswer_challenge\u001b[0;34m(connection, authkey)\u001b[0m\n\u001b[1;32m    750\u001b[0m         raise ValueError(\n\u001b[1;32m    751\u001b[0m             \"Authkey must be bytes, not {0!s}\".format(type(authkey)))\n\u001b[0;32m--> 752\u001b[0;31m     \u001b[0mmessage\u001b[0m \u001b[0;34m=\u001b[0m \u001b[0mconnection\u001b[0m\u001b[0;34m.\u001b[0m\u001b[0mrecv_bytes\u001b[0m\u001b[0;34m(\u001b[0m\u001b[0;36m256\u001b[0m\u001b[0;34m)\u001b[0m         \u001b[0;31m# reject large message\u001b[0m\u001b[0;34m\u001b[0m\u001b[0;34m\u001b[0m\u001b[0m\n\u001b[0m\u001b[1;32m    753\u001b[0m     \u001b[0;32massert\u001b[0m \u001b[0mmessage\u001b[0m\u001b[0;34m[\u001b[0m\u001b[0;34m:\u001b[0m\u001b[0mlen\u001b[0m\u001b[0;34m(\u001b[0m\u001b[0mCHALLENGE\u001b[0m\u001b[0;34m)\u001b[0m\u001b[0;34m]\u001b[0m \u001b[0;34m==\u001b[0m \u001b[0mCHALLENGE\u001b[0m\u001b[0;34m,\u001b[0m \u001b[0;34m'message = %r'\u001b[0m \u001b[0;34m%\u001b[0m \u001b[0mmessage\u001b[0m\u001b[0;34m\u001b[0m\u001b[0;34m\u001b[0m\u001b[0m\n\u001b[1;32m    754\u001b[0m     \u001b[0mmessage\u001b[0m \u001b[0;34m=\u001b[0m \u001b[0mmessage\u001b[0m\u001b[0;34m[\u001b[0m\u001b[0mlen\u001b[0m\u001b[0;34m(\u001b[0m\u001b[0mCHALLENGE\u001b[0m\u001b[0;34m)\u001b[0m\u001b[0;34m:\u001b[0m\u001b[0;34m]\u001b[0m\u001b[0;34m\u001b[0m\u001b[0;34m\u001b[0m\u001b[0m\n",
            "\u001b[0;32m/usr/lib/python3.10/multiprocessing/connection.py\u001b[0m in \u001b[0;36mrecv_bytes\u001b[0;34m(self, maxlength)\u001b[0m\n\u001b[1;32m    214\u001b[0m         \u001b[0;32mif\u001b[0m \u001b[0mmaxlength\u001b[0m \u001b[0;32mis\u001b[0m \u001b[0;32mnot\u001b[0m \u001b[0;32mNone\u001b[0m \u001b[0;32mand\u001b[0m \u001b[0mmaxlength\u001b[0m \u001b[0;34m<\u001b[0m \u001b[0;36m0\u001b[0m\u001b[0;34m:\u001b[0m\u001b[0;34m\u001b[0m\u001b[0;34m\u001b[0m\u001b[0m\n\u001b[1;32m    215\u001b[0m             \u001b[0;32mraise\u001b[0m \u001b[0mValueError\u001b[0m\u001b[0;34m(\u001b[0m\u001b[0;34m\"negative maxlength\"\u001b[0m\u001b[0;34m)\u001b[0m\u001b[0;34m\u001b[0m\u001b[0;34m\u001b[0m\u001b[0m\n\u001b[0;32m--> 216\u001b[0;31m         \u001b[0mbuf\u001b[0m \u001b[0;34m=\u001b[0m \u001b[0mself\u001b[0m\u001b[0;34m.\u001b[0m\u001b[0m_recv_bytes\u001b[0m\u001b[0;34m(\u001b[0m\u001b[0mmaxlength\u001b[0m\u001b[0;34m)\u001b[0m\u001b[0;34m\u001b[0m\u001b[0;34m\u001b[0m\u001b[0m\n\u001b[0m\u001b[1;32m    217\u001b[0m         \u001b[0;32mif\u001b[0m \u001b[0mbuf\u001b[0m \u001b[0;32mis\u001b[0m \u001b[0;32mNone\u001b[0m\u001b[0;34m:\u001b[0m\u001b[0;34m\u001b[0m\u001b[0;34m\u001b[0m\u001b[0m\n\u001b[1;32m    218\u001b[0m             \u001b[0mself\u001b[0m\u001b[0;34m.\u001b[0m\u001b[0m_bad_message_length\u001b[0m\u001b[0;34m(\u001b[0m\u001b[0;34m)\u001b[0m\u001b[0;34m\u001b[0m\u001b[0;34m\u001b[0m\u001b[0m\n",
            "\u001b[0;32m/usr/lib/python3.10/multiprocessing/connection.py\u001b[0m in \u001b[0;36m_recv_bytes\u001b[0;34m(self, maxsize)\u001b[0m\n\u001b[1;32m    412\u001b[0m \u001b[0;34m\u001b[0m\u001b[0m\n\u001b[1;32m    413\u001b[0m     \u001b[0;32mdef\u001b[0m \u001b[0m_recv_bytes\u001b[0m\u001b[0;34m(\u001b[0m\u001b[0mself\u001b[0m\u001b[0;34m,\u001b[0m \u001b[0mmaxsize\u001b[0m\u001b[0;34m=\u001b[0m\u001b[0;32mNone\u001b[0m\u001b[0;34m)\u001b[0m\u001b[0;34m:\u001b[0m\u001b[0;34m\u001b[0m\u001b[0;34m\u001b[0m\u001b[0m\n\u001b[0;32m--> 414\u001b[0;31m         \u001b[0mbuf\u001b[0m \u001b[0;34m=\u001b[0m \u001b[0mself\u001b[0m\u001b[0;34m.\u001b[0m\u001b[0m_recv\u001b[0m\u001b[0;34m(\u001b[0m\u001b[0;36m4\u001b[0m\u001b[0;34m)\u001b[0m\u001b[0;34m\u001b[0m\u001b[0;34m\u001b[0m\u001b[0m\n\u001b[0m\u001b[1;32m    415\u001b[0m         \u001b[0msize\u001b[0m\u001b[0;34m,\u001b[0m \u001b[0;34m=\u001b[0m \u001b[0mstruct\u001b[0m\u001b[0;34m.\u001b[0m\u001b[0munpack\u001b[0m\u001b[0;34m(\u001b[0m\u001b[0;34m\"!i\"\u001b[0m\u001b[0;34m,\u001b[0m \u001b[0mbuf\u001b[0m\u001b[0;34m.\u001b[0m\u001b[0mgetvalue\u001b[0m\u001b[0;34m(\u001b[0m\u001b[0;34m)\u001b[0m\u001b[0;34m)\u001b[0m\u001b[0;34m\u001b[0m\u001b[0;34m\u001b[0m\u001b[0m\n\u001b[1;32m    416\u001b[0m         \u001b[0;32mif\u001b[0m \u001b[0msize\u001b[0m \u001b[0;34m==\u001b[0m \u001b[0;34m-\u001b[0m\u001b[0;36m1\u001b[0m\u001b[0;34m:\u001b[0m\u001b[0;34m\u001b[0m\u001b[0;34m\u001b[0m\u001b[0m\n",
            "\u001b[0;32m/usr/lib/python3.10/multiprocessing/connection.py\u001b[0m in \u001b[0;36m_recv\u001b[0;34m(self, size, read)\u001b[0m\n\u001b[1;32m    377\u001b[0m         \u001b[0mremaining\u001b[0m \u001b[0;34m=\u001b[0m \u001b[0msize\u001b[0m\u001b[0;34m\u001b[0m\u001b[0;34m\u001b[0m\u001b[0m\n\u001b[1;32m    378\u001b[0m         \u001b[0;32mwhile\u001b[0m \u001b[0mremaining\u001b[0m \u001b[0;34m>\u001b[0m \u001b[0;36m0\u001b[0m\u001b[0;34m:\u001b[0m\u001b[0;34m\u001b[0m\u001b[0;34m\u001b[0m\u001b[0m\n\u001b[0;32m--> 379\u001b[0;31m             \u001b[0mchunk\u001b[0m \u001b[0;34m=\u001b[0m \u001b[0mread\u001b[0m\u001b[0;34m(\u001b[0m\u001b[0mhandle\u001b[0m\u001b[0;34m,\u001b[0m \u001b[0mremaining\u001b[0m\u001b[0;34m)\u001b[0m\u001b[0;34m\u001b[0m\u001b[0;34m\u001b[0m\u001b[0m\n\u001b[0m\u001b[1;32m    380\u001b[0m             \u001b[0mn\u001b[0m \u001b[0;34m=\u001b[0m \u001b[0mlen\u001b[0m\u001b[0;34m(\u001b[0m\u001b[0mchunk\u001b[0m\u001b[0;34m)\u001b[0m\u001b[0;34m\u001b[0m\u001b[0;34m\u001b[0m\u001b[0m\n\u001b[1;32m    381\u001b[0m             \u001b[0;32mif\u001b[0m \u001b[0mn\u001b[0m \u001b[0;34m==\u001b[0m \u001b[0;36m0\u001b[0m\u001b[0;34m:\u001b[0m\u001b[0;34m\u001b[0m\u001b[0;34m\u001b[0m\u001b[0m\n",
            "\u001b[0;31mKeyboardInterrupt\u001b[0m: "
          ]
        },
        {
          "output_type": "display_data",
          "data": {
            "text/plain": [
              "<Figure size 640x480 with 1 Axes>"
            ],
            "image/png": "[encoded data removed]"
          },
          "metadata": {}
        }
      ],
      "source": [
        "# training loop\n",
        "epochs = 50 # \n",
        "\n",
        "plt.figure()\n",
        "for ep_n in range(epochs):\n",
        "\n",
        "    for img,label in tqdm(loaders['train']):\n",
        "        img = img.to(device)\n",
        "        label = label.to(device)\n",
        "        net.train()\n",
        "        run_model(img,label,net,optimizer,loss,train=True)\n",
        "\n",
        "    # train set loss\n",
        "    img,label=next(iter(loaders['train'])) # get a batch\n",
        "    img = img.to(device)\n",
        "    label = label.to(device)\n",
        "    batch_loss, _, _, _ = run_model(img,label,net,optimizer,loss)\n",
        "    loss_train.append(batch_loss.cpu().detach().numpy())\n",
        "\n",
        "    # test set loss\n",
        "    img,label=next(iter(loaders['test'])) # get a batch\n",
        "    img = img.to(device)\n",
        "    label = label.to(device)\n",
        "    batch_loss, _, _, _ = run_model(img,label,net,optimizer,loss)\n",
        "    loss_test.append(batch_loss.cpu().detach().numpy())\n",
        "\n",
        "    # plot the losses\n",
        "    plt.clf()\n",
        "    train_handle = plt.plot(loss_train, color='blue',label='training set')\n",
        "    test_handle = plt.plot(loss_test, color='red',label='test set')\n",
        "    plt.xlabel('epoch')\n",
        "    plt.ylabel('loss')\n",
        "    plt.legend()\n",
        "    display.clear_output(wait=True) # necessary in order to refresh the plot, otherwise it will print a new plot each epoch\n",
        "    display.display(plt.gcf())\n",
        "        \n",
        "    "
      ]
    },
    {
      "cell_type": "markdown",
      "metadata": {
        "id": "KMNE8K8xkb8a"
      },
      "source": [
        "## 5) Evaluating performance\n",
        "\n",
        "If all has gone well our loss function should have decreased substantially and reached a platough. Or you've gotten board, cut the training of early and would just like to see how well the model is doing right now.\n",
        "\n",
        "To get a feeling of for the models performance we will get multiple batches of test data, caculate the classificiation accuracy of the this set and then plot a few examples."
      ]
    },
    {
      "cell_type": "code",
      "execution_count": null,
      "metadata": {
        "id": "qg_Ngsq9kb8b",
        "outputId": "b461fe31-ecad-4fbe-fa4e-88b5ff8aaa7f",
        "colab": {
          "base_uri": "https://localhost:8080/",
          "height": 764
        }
      },
      "outputs": [
        {
          "output_type": "stream",
          "name": "stdout",
          "text": [
            "label: [3 5 3 0 9 5 1 2 8 1 3 7 5 2 8 8 6 1 1 1 7 3 7 8 3 2 7 8 6 2 9]\n",
            "label prediction: [3 7 3 0 4 8 1 2 8 1 3 1 3 4 8 8 6 1 1 1 2 3 7 8 3 2 7 8 6 2 4]\n",
            "label weights first example: [  0.   0.   0. 100.   0.   0.   0.   0.   0.   0.]\n",
            "loss: 1.699205\n",
            "accuracy: 77.13%\n"
          ]
        },
        {
          "output_type": "display_data",
          "data": {
            "text/plain": [
              "<Figure size 800x800 with 25 Axes>"
            ],
            "image/png": "[encoded data removed]"
          },
          "metadata": {}
        }
      ],
      "source": [
        "# check its all working\n",
        "loader_temp = iter(loaders['test'])\n",
        "img,label = next(loader_temp) # get a batch\n",
        "for i in range(10): # get multiple batches to get more accurate estimates\n",
        "    img_temp, label_temp = next(loader_temp)\n",
        "    img=torch.cat((img,img_temp),dim=0)\n",
        "    label=torch.cat((label,label_temp),dim=0)\n",
        "img = img.to(device)\n",
        "label = label.to(device)\n",
        "batch_loss, label_pred, label_pred_int, accuracy = run_model(img,label,net,optimizer,loss)\n",
        "\n",
        "\n",
        "img=img.cpu().detach().numpy()\n",
        "label=label.cpu().detach().numpy()\n",
        "batch_loss=batch_loss.cpu().detach().numpy()\n",
        "label_pred=label_pred.cpu().detach().numpy()\n",
        "label_pred_int=label_pred_int.cpu().detach().numpy()\n",
        "\n",
        "print('label: ' + np.array2string(label[0:31]))\n",
        "print('label prediction: ' + np.array2string(label_pred_int[0:31]))\n",
        "print('label weights first example: ' + np.array2string(label_pred[0]*100,precision=0,suppress_small=True))\n",
        "print('loss: ' + np.array2string(batch_loss))\n",
        "print('accuracy: ' + str(round(accuracy, 2)) + '%')\n",
        "\n",
        "plot_examples.plot(img,label,label_pred_int)"
      ]
    },
    {
      "cell_type": "markdown",
      "metadata": {
        "id": "S6_YxScIkb8b"
      },
      "source": [
        "## 6) Saving and re-loading models\n",
        "\n",
        "Now that we have a model that performs reasonably well, we want to save it. When you save models you save two things separatly 1) the architecture, which we is already saved, e.g. DFF.py, 2) the model weights, or state."
      ]
    },
    {
      "cell_type": "code",
      "execution_count": null,
      "metadata": {
        "id": "j0tBP6EYkb8c"
      },
      "outputs": [],
      "source": [
        "torch.save(net.state_dict(), 'MNIST_DFF1.pt')"
      ]
    },
    {
      "cell_type": "markdown",
      "metadata": {
        "id": "wD4POvxlkb8c"
      },
      "source": [
        "When we want to retreave a trained model we also need to recover it in two stages."
      ]
    },
    {
      "cell_type": "code",
      "execution_count": null,
      "metadata": {
        "id": "yVP0vkKxkb8c",
        "outputId": "e8065c50-98d8-4e44-d80e-aed6132b1301",
        "colab": {
          "base_uri": "https://localhost:8080/"
        }
      },
      "outputs": [
        {
          "output_type": "execute_result",
          "data": {
            "text/plain": [
              "<All keys matched successfully>"
            ]
          },
          "metadata": {},
          "execution_count": 32
        }
      ],
      "source": [
        "#load model \n",
        "from Models import DFF as model # try DFF\n",
        "net2 = model().to(device)\n",
        "\n",
        "# load weights into model\n",
        "net2.load_state_dict(torch.load('MNIST_DFF1.pt'))"
      ]
    },
    {
      "cell_type": "markdown",
      "metadata": {
        "id": "SGrR9Oa7kb8d"
      },
      "source": [
        "# The End"
      ]
    }
  ],
  "metadata": {
    "kernelspec": {
      "display_name": "DeepImageReconstruction",
      "language": "python",
      "name": "python3"
    },
    "language_info": {
      "codemirror_mode": {
        "name": "ipython",
        "version": 3
      },
      "file_extension": ".py",
      "mimetype": "text/x-python",
      "name": "python",
      "nbconvert_exporter": "python",
      "pygments_lexer": "ipython3",
      "version": "3.8.15"
    },
    "orig_nbformat": 4,
    "colab": {
      "provenance": [],
      "gpuType": "T4",
      "include_colab_link": true
    },
    "accelerator": "GPU",
    "gpuClass": "standard"
  },
  "nbformat": 4,
  "nbformat_minor": 0
}